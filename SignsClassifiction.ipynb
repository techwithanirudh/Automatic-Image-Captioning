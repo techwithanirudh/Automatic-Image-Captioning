{
  "nbformat": 4,
  "nbformat_minor": 0,
  "metadata": {
    "colab": {
      "name": "SignsClassifiction",
      "provenance": [],
      "collapsed_sections": [],
      "authorship_tag": "ABX9TyM8q+ml20ctd2235diaDcYM",
      "include_colab_link": true
    },
    "kernelspec": {
      "name": "python3",
      "display_name": "Python 3"
    }
  },
  "cells": [
    {
      "cell_type": "markdown",
      "metadata": {
        "id": "view-in-github",
        "colab_type": "text"
      },
      "source": [
        "<a href=\"https://colab.research.google.com/github/techwithanirudh/Automatic-Image-Captioning/blob/master/SignsClassifiction.ipynb\" target=\"_parent\"><img src=\"https://colab.research.google.com/assets/colab-badge.svg\" alt=\"Open In Colab\"/></a>"
      ]
    },
    {
      "cell_type": "code",
      "metadata": {
        "colab": {
          "resources": {
            "http://localhost:8080/nbextensions/google.colab/files.js": {
              "data": "Ly8gQ29weXJpZ2h0IDIwMTcgR29vZ2xlIExMQwovLwovLyBMaWNlbnNlZCB1bmRlciB0aGUgQXBhY2hlIExpY2Vuc2UsIFZlcnNpb24gMi4wICh0aGUgIkxpY2Vuc2UiKTsKLy8geW91IG1heSBub3QgdXNlIHRoaXMgZmlsZSBleGNlcHQgaW4gY29tcGxpYW5jZSB3aXRoIHRoZSBMaWNlbnNlLgovLyBZb3UgbWF5IG9idGFpbiBhIGNvcHkgb2YgdGhlIExpY2Vuc2UgYXQKLy8KLy8gICAgICBodHRwOi8vd3d3LmFwYWNoZS5vcmcvbGljZW5zZXMvTElDRU5TRS0yLjAKLy8KLy8gVW5sZXNzIHJlcXVpcmVkIGJ5IGFwcGxpY2FibGUgbGF3IG9yIGFncmVlZCB0byBpbiB3cml0aW5nLCBzb2Z0d2FyZQovLyBkaXN0cmlidXRlZCB1bmRlciB0aGUgTGljZW5zZSBpcyBkaXN0cmlidXRlZCBvbiBhbiAiQVMgSVMiIEJBU0lTLAovLyBXSVRIT1VUIFdBUlJBTlRJRVMgT1IgQ09ORElUSU9OUyBPRiBBTlkgS0lORCwgZWl0aGVyIGV4cHJlc3Mgb3IgaW1wbGllZC4KLy8gU2VlIHRoZSBMaWNlbnNlIGZvciB0aGUgc3BlY2lmaWMgbGFuZ3VhZ2UgZ292ZXJuaW5nIHBlcm1pc3Npb25zIGFuZAovLyBsaW1pdGF0aW9ucyB1bmRlciB0aGUgTGljZW5zZS4KCi8qKgogKiBAZmlsZW92ZXJ2aWV3IEhlbHBlcnMgZm9yIGdvb2dsZS5jb2xhYiBQeXRob24gbW9kdWxlLgogKi8KKGZ1bmN0aW9uKHNjb3BlKSB7CmZ1bmN0aW9uIHNwYW4odGV4dCwgc3R5bGVBdHRyaWJ1dGVzID0ge30pIHsKICBjb25zdCBlbGVtZW50ID0gZG9jdW1lbnQuY3JlYXRlRWxlbWVudCgnc3BhbicpOwogIGVsZW1lbnQudGV4dENvbnRlbnQgPSB0ZXh0OwogIGZvciAoY29uc3Qga2V5IG9mIE9iamVjdC5rZXlzKHN0eWxlQXR0cmlidXRlcykpIHsKICAgIGVsZW1lbnQuc3R5bGVba2V5XSA9IHN0eWxlQXR0cmlidXRlc1trZXldOwogIH0KICByZXR1cm4gZWxlbWVudDsKfQoKLy8gTWF4IG51bWJlciBvZiBieXRlcyB3aGljaCB3aWxsIGJlIHVwbG9hZGVkIGF0IGEgdGltZS4KY29uc3QgTUFYX1BBWUxPQURfU0laRSA9IDEwMCAqIDEwMjQ7CgpmdW5jdGlvbiBfdXBsb2FkRmlsZXMoaW5wdXRJZCwgb3V0cHV0SWQpIHsKICBjb25zdCBzdGVwcyA9IHVwbG9hZEZpbGVzU3RlcChpbnB1dElkLCBvdXRwdXRJZCk7CiAgY29uc3Qgb3V0cHV0RWxlbWVudCA9IGRvY3VtZW50LmdldEVsZW1lbnRCeUlkKG91dHB1dElkKTsKICAvLyBDYWNoZSBzdGVwcyBvbiB0aGUgb3V0cHV0RWxlbWVudCB0byBtYWtlIGl0IGF2YWlsYWJsZSBmb3IgdGhlIG5leHQgY2FsbAogIC8vIHRvIHVwbG9hZEZpbGVzQ29udGludWUgZnJvbSBQeXRob24uCiAgb3V0cHV0RWxlbWVudC5zdGVwcyA9IHN0ZXBzOwoKICByZXR1cm4gX3VwbG9hZEZpbGVzQ29udGludWUob3V0cHV0SWQpOwp9CgovLyBUaGlzIGlzIHJvdWdobHkgYW4gYXN5bmMgZ2VuZXJhdG9yIChub3Qgc3VwcG9ydGVkIGluIHRoZSBicm93c2VyIHlldCksCi8vIHdoZXJlIHRoZXJlIGFyZSBtdWx0aXBsZSBhc3luY2hyb25vdXMgc3RlcHMgYW5kIHRoZSBQeXRob24gc2lkZSBpcyBnb2luZwovLyB0byBwb2xsIGZvciBjb21wbGV0aW9uIG9mIGVhY2ggc3RlcC4KLy8gVGhpcyB1c2VzIGEgUHJvbWlzZSB0byBibG9jayB0aGUgcHl0aG9uIHNpZGUgb24gY29tcGxldGlvbiBvZiBlYWNoIHN0ZXAsCi8vIHRoZW4gcGFzc2VzIHRoZSByZXN1bHQgb2YgdGhlIHByZXZpb3VzIHN0ZXAgYXMgdGhlIGlucHV0IHRvIHRoZSBuZXh0IHN0ZXAuCmZ1bmN0aW9uIF91cGxvYWRGaWxlc0NvbnRpbnVlKG91dHB1dElkKSB7CiAgY29uc3Qgb3V0cHV0RWxlbWVudCA9IGRvY3VtZW50LmdldEVsZW1lbnRCeUlkKG91dHB1dElkKTsKICBjb25zdCBzdGVwcyA9IG91dHB1dEVsZW1lbnQuc3RlcHM7CgogIGNvbnN0IG5leHQgPSBzdGVwcy5uZXh0KG91dHB1dEVsZW1lbnQubGFzdFByb21pc2VWYWx1ZSk7CiAgcmV0dXJuIFByb21pc2UucmVzb2x2ZShuZXh0LnZhbHVlLnByb21pc2UpLnRoZW4oKHZhbHVlKSA9PiB7CiAgICAvLyBDYWNoZSB0aGUgbGFzdCBwcm9taXNlIHZhbHVlIHRvIG1ha2UgaXQgYXZhaWxhYmxlIHRvIHRoZSBuZXh0CiAgICAvLyBzdGVwIG9mIHRoZSBnZW5lcmF0b3IuCiAgICBvdXRwdXRFbGVtZW50Lmxhc3RQcm9taXNlVmFsdWUgPSB2YWx1ZTsKICAgIHJldHVybiBuZXh0LnZhbHVlLnJlc3BvbnNlOwogIH0pOwp9CgovKioKICogR2VuZXJhdG9yIGZ1bmN0aW9uIHdoaWNoIGlzIGNhbGxlZCBiZXR3ZWVuIGVhY2ggYXN5bmMgc3RlcCBvZiB0aGUgdXBsb2FkCiAqIHByb2Nlc3MuCiAqIEBwYXJhbSB7c3RyaW5nfSBpbnB1dElkIEVsZW1lbnQgSUQgb2YgdGhlIGlucHV0IGZpbGUgcGlja2VyIGVsZW1lbnQuCiAqIEBwYXJhbSB7c3RyaW5nfSBvdXRwdXRJZCBFbGVtZW50IElEIG9mIHRoZSBvdXRwdXQgZGlzcGxheS4KICogQHJldHVybiB7IUl0ZXJhYmxlPCFPYmplY3Q+fSBJdGVyYWJsZSBvZiBuZXh0IHN0ZXBzLgogKi8KZnVuY3Rpb24qIHVwbG9hZEZpbGVzU3RlcChpbnB1dElkLCBvdXRwdXRJZCkgewogIGNvbnN0IGlucHV0RWxlbWVudCA9IGRvY3VtZW50LmdldEVsZW1lbnRCeUlkKGlucHV0SWQpOwogIGlucHV0RWxlbWVudC5kaXNhYmxlZCA9IGZhbHNlOwoKICBjb25zdCBvdXRwdXRFbGVtZW50ID0gZG9jdW1lbnQuZ2V0RWxlbWVudEJ5SWQob3V0cHV0SWQpOwogIG91dHB1dEVsZW1lbnQuaW5uZXJIVE1MID0gJyc7CgogIGNvbnN0IHBpY2tlZFByb21pc2UgPSBuZXcgUHJvbWlzZSgocmVzb2x2ZSkgPT4gewogICAgaW5wdXRFbGVtZW50LmFkZEV2ZW50TGlzdGVuZXIoJ2NoYW5nZScsIChlKSA9PiB7CiAgICAgIHJlc29sdmUoZS50YXJnZXQuZmlsZXMpOwogICAgfSk7CiAgfSk7CgogIGNvbnN0IGNhbmNlbCA9IGRvY3VtZW50LmNyZWF0ZUVsZW1lbnQoJ2J1dHRvbicpOwogIGlucHV0RWxlbWVudC5wYXJlbnRFbGVtZW50LmFwcGVuZENoaWxkKGNhbmNlbCk7CiAgY2FuY2VsLnRleHRDb250ZW50ID0gJ0NhbmNlbCB1cGxvYWQnOwogIGNvbnN0IGNhbmNlbFByb21pc2UgPSBuZXcgUHJvbWlzZSgocmVzb2x2ZSkgPT4gewogICAgY2FuY2VsLm9uY2xpY2sgPSAoKSA9PiB7CiAgICAgIHJlc29sdmUobnVsbCk7CiAgICB9OwogIH0pOwoKICAvLyBXYWl0IGZvciB0aGUgdXNlciB0byBwaWNrIHRoZSBmaWxlcy4KICBjb25zdCBmaWxlcyA9IHlpZWxkIHsKICAgIHByb21pc2U6IFByb21pc2UucmFjZShbcGlja2VkUHJvbWlzZSwgY2FuY2VsUHJvbWlzZV0pLAogICAgcmVzcG9uc2U6IHsKICAgICAgYWN0aW9uOiAnc3RhcnRpbmcnLAogICAgfQogIH07CgogIGNhbmNlbC5yZW1vdmUoKTsKCiAgLy8gRGlzYWJsZSB0aGUgaW5wdXQgZWxlbWVudCBzaW5jZSBmdXJ0aGVyIHBpY2tzIGFyZSBub3QgYWxsb3dlZC4KICBpbnB1dEVsZW1lbnQuZGlzYWJsZWQgPSB0cnVlOwoKICBpZiAoIWZpbGVzKSB7CiAgICByZXR1cm4gewogICAgICByZXNwb25zZTogewogICAgICAgIGFjdGlvbjogJ2NvbXBsZXRlJywKICAgICAgfQogICAgfTsKICB9CgogIGZvciAoY29uc3QgZmlsZSBvZiBmaWxlcykgewogICAgY29uc3QgbGkgPSBkb2N1bWVudC5jcmVhdGVFbGVtZW50KCdsaScpOwogICAgbGkuYXBwZW5kKHNwYW4oZmlsZS5uYW1lLCB7Zm9udFdlaWdodDogJ2JvbGQnfSkpOwogICAgbGkuYXBwZW5kKHNwYW4oCiAgICAgICAgYCgke2ZpbGUudHlwZSB8fCAnbi9hJ30pIC0gJHtmaWxlLnNpemV9IGJ5dGVzLCBgICsKICAgICAgICBgbGFzdCBtb2RpZmllZDogJHsKICAgICAgICAgICAgZmlsZS5sYXN0TW9kaWZpZWREYXRlID8gZmlsZS5sYXN0TW9kaWZpZWREYXRlLnRvTG9jYWxlRGF0ZVN0cmluZygpIDoKICAgICAgICAgICAgICAgICAgICAgICAgICAgICAgICAgICAgJ24vYSd9IC0gYCkpOwogICAgY29uc3QgcGVyY2VudCA9IHNwYW4oJzAlIGRvbmUnKTsKICAgIGxpLmFwcGVuZENoaWxkKHBlcmNlbnQpOwoKICAgIG91dHB1dEVsZW1lbnQuYXBwZW5kQ2hpbGQobGkpOwoKICAgIGNvbnN0IGZpbGVEYXRhUHJvbWlzZSA9IG5ldyBQcm9taXNlKChyZXNvbHZlKSA9PiB7CiAgICAgIGNvbnN0IHJlYWRlciA9IG5ldyBGaWxlUmVhZGVyKCk7CiAgICAgIHJlYWRlci5vbmxvYWQgPSAoZSkgPT4gewogICAgICAgIHJlc29sdmUoZS50YXJnZXQucmVzdWx0KTsKICAgICAgfTsKICAgICAgcmVhZGVyLnJlYWRBc0FycmF5QnVmZmVyKGZpbGUpOwogICAgfSk7CiAgICAvLyBXYWl0IGZvciB0aGUgZGF0YSB0byBiZSByZWFkeS4KICAgIGxldCBmaWxlRGF0YSA9IHlpZWxkIHsKICAgICAgcHJvbWlzZTogZmlsZURhdGFQcm9taXNlLAogICAgICByZXNwb25zZTogewogICAgICAgIGFjdGlvbjogJ2NvbnRpbnVlJywKICAgICAgfQogICAgfTsKCiAgICAvLyBVc2UgYSBjaHVua2VkIHNlbmRpbmcgdG8gYXZvaWQgbWVzc2FnZSBzaXplIGxpbWl0cy4gU2VlIGIvNjIxMTU2NjAuCiAgICBsZXQgcG9zaXRpb24gPSAwOwogICAgd2hpbGUgKHBvc2l0aW9uIDwgZmlsZURhdGEuYnl0ZUxlbmd0aCkgewogICAgICBjb25zdCBsZW5ndGggPSBNYXRoLm1pbihmaWxlRGF0YS5ieXRlTGVuZ3RoIC0gcG9zaXRpb24sIE1BWF9QQVlMT0FEX1NJWkUpOwogICAgICBjb25zdCBjaHVuayA9IG5ldyBVaW50OEFycmF5KGZpbGVEYXRhLCBwb3NpdGlvbiwgbGVuZ3RoKTsKICAgICAgcG9zaXRpb24gKz0gbGVuZ3RoOwoKICAgICAgY29uc3QgYmFzZTY0ID0gYnRvYShTdHJpbmcuZnJvbUNoYXJDb2RlLmFwcGx5KG51bGwsIGNodW5rKSk7CiAgICAgIHlpZWxkIHsKICAgICAgICByZXNwb25zZTogewogICAgICAgICAgYWN0aW9uOiAnYXBwZW5kJywKICAgICAgICAgIGZpbGU6IGZpbGUubmFtZSwKICAgICAgICAgIGRhdGE6IGJhc2U2NCwKICAgICAgICB9LAogICAgICB9OwogICAgICBwZXJjZW50LnRleHRDb250ZW50ID0KICAgICAgICAgIGAke01hdGgucm91bmQoKHBvc2l0aW9uIC8gZmlsZURhdGEuYnl0ZUxlbmd0aCkgKiAxMDApfSUgZG9uZWA7CiAgICB9CiAgfQoKICAvLyBBbGwgZG9uZS4KICB5aWVsZCB7CiAgICByZXNwb25zZTogewogICAgICBhY3Rpb246ICdjb21wbGV0ZScsCiAgICB9CiAgfTsKfQoKc2NvcGUuZ29vZ2xlID0gc2NvcGUuZ29vZ2xlIHx8IHt9OwpzY29wZS5nb29nbGUuY29sYWIgPSBzY29wZS5nb29nbGUuY29sYWIgfHwge307CnNjb3BlLmdvb2dsZS5jb2xhYi5fZmlsZXMgPSB7CiAgX3VwbG9hZEZpbGVzLAogIF91cGxvYWRGaWxlc0NvbnRpbnVlLAp9Owp9KShzZWxmKTsK",
              "ok": true,
              "headers": [
                [
                  "content-type",
                  "application/javascript"
                ]
              ],
              "status": 200,
              "status_text": ""
            }
          },
          "base_uri": "https://localhost:8080/",
          "height": 89
        },
        "id": "hshw1hyDxw61",
        "outputId": "f0b902f9-0e3d-4383-acdf-668d6f30e8f4"
      },
      "source": [
        "from google.colab import files\r\n",
        "files.upload()"
      ],
      "execution_count": null,
      "outputs": [
        {
          "output_type": "display_data",
          "data": {
            "text/html": [
              "\n",
              "     <input type=\"file\" id=\"files-38aa130c-5b72-4c8e-b101-20ccf3ef228c\" name=\"files[]\" multiple disabled\n",
              "        style=\"border:none\" />\n",
              "     <output id=\"result-38aa130c-5b72-4c8e-b101-20ccf3ef228c\">\n",
              "      Upload widget is only available when the cell has been executed in the\n",
              "      current browser session. Please rerun this cell to enable.\n",
              "      </output>\n",
              "      <script src=\"/nbextensions/google.colab/files.js\"></script> "
            ],
            "text/plain": [
              "<IPython.core.display.HTML object>"
            ]
          },
          "metadata": {
            "tags": []
          }
        },
        {
          "output_type": "stream",
          "text": [
            "Saving kaggle.json to kaggle.json\n"
          ],
          "name": "stdout"
        },
        {
          "output_type": "execute_result",
          "data": {
            "text/plain": [
              "{'kaggle.json': b'{\"username\":\"superkaggleuserinjan\",\"key\":\"d8cc974e68b63884566d5cb02a7ea3bb\"}'}"
            ]
          },
          "metadata": {
            "tags": []
          },
          "execution_count": 1
        }
      ]
    },
    {
      "cell_type": "code",
      "metadata": {
        "colab": {
          "base_uri": "https://localhost:8080/"
        },
        "id": "1Fz2YYBGyCRG",
        "outputId": "0ae35fb3-c73d-4471-b7bd-456edb9019ee"
      },
      "source": [
        "!pip install -q kaggle"
      ],
      "execution_count": null,
      "outputs": [
        {
          "output_type": "stream",
          "text": [
            "\u001b[?25l\r\u001b[K     |█████▌                          | 10kB 27.9MB/s eta 0:00:01\r\u001b[K     |███████████                     | 20kB 16.5MB/s eta 0:00:01\r\u001b[K     |████████████████▋               | 30kB 13.9MB/s eta 0:00:01\r\u001b[K     |██████████████████████▏         | 40kB 12.4MB/s eta 0:00:01\r\u001b[K     |███████████████████████████▊    | 51kB 7.8MB/s eta 0:00:01\r\u001b[K     |████████████████████████████████| 61kB 4.8MB/s \n",
            "\u001b[?25h  Building wheel for kaggle (setup.py) ... \u001b[?25l\u001b[?25hdone\n"
          ],
          "name": "stdout"
        }
      ]
    },
    {
      "cell_type": "code",
      "metadata": {
        "colab": {
          "base_uri": "https://localhost:8080/",
          "height": 35
        },
        "id": "7VzG7fw5ynAu",
        "outputId": "db8565c4-0aa1-4383-f222-3ae2869b396a"
      },
      "source": [
        "# create folder called kaggle\r\n",
        "!mkdir -p ~/.kaggle\r\n",
        "# copy kaggle.json into kaggle folder\r\n",
        "!cp /content/kaggle.json ~/.kaggle/\r\n",
        "# change permissions so that only you can read-write\r\n",
        "!chmod 600 /root/.kaggle/kaggle.json"
      ],
      "execution_count": null,
      "outputs": [
        {
          "output_type": "execute_result",
          "data": {
            "application/vnd.google.colaboratory.intrinsic+json": {
              "type": "string"
            },
            "text/plain": [
              "'chmod 600 /root/.kaggle/kaggle.json'"
            ]
          },
          "metadata": {
            "tags": []
          },
          "execution_count": 13
        }
      ]
    },
    {
      "cell_type": "code",
      "metadata": {
        "colab": {
          "base_uri": "https://localhost:8080/"
        },
        "id": "0QOBU4mvCC6r",
        "outputId": "bee90c66-0db5-4790-9b4f-bbe8725b3b39"
      },
      "source": [
        "import os\r\n",
        "\r\n",
        "print(os.listdir('/root/'))\r\n",
        "print(os.listdir('/root/.kaggle/'))\r\n",
        "\r\n",
        "with open('/root/.kaggle/kaggle.json') as f:\r\n",
        "  print(f.read())\r\n",
        "\r\n",
        "print(os.listdir('/content/'))"
      ],
      "execution_count": null,
      "outputs": [
        {
          "output_type": "stream",
          "text": [
            "['.bashrc', '.profile', '.cache', '.keras', '.kaggle', '.local', '.tmux.conf', '.jupyter', '.config', '.ipython', '.npm', '.gsutil']\n",
            "['kaggle.json']\n",
            "{\"username\":\"superkaggleuserinjan\",\"key\":\"d8cc974e68b63884566d5cb02a7ea3bb\"}\n",
            "['.config', 'kaggle.json', 'gtsrb-german-traffic-sign.zip', '.ipynb_checkpoints', 'sample_data']\n"
          ],
          "name": "stdout"
        }
      ]
    },
    {
      "cell_type": "code",
      "metadata": {
        "colab": {
          "base_uri": "https://localhost:8080/"
        },
        "id": "cWC9V7DryCds",
        "outputId": "d499c4e2-df57-4dcd-c60a-22a3c9ef61b0"
      },
      "source": [
        "!kaggle datasets download -d meowmeowmeowmeowmeow/gtsrb-german-traffic-sign"
      ],
      "execution_count": null,
      "outputs": [
        {
          "output_type": "stream",
          "text": [
            "Downloading gtsrb-german-traffic-sign.zip to /content\n",
            " 97% 594M/612M [00:01<00:00, 345MB/s]\n",
            "100% 612M/612M [00:01<00:00, 324MB/s]\n"
          ],
          "name": "stdout"
        }
      ]
    },
    {
      "cell_type": "code",
      "metadata": {
        "id": "PRSyuM5FyCh_"
      },
      "source": [
        "!unzip /content/gtsrb-german-traffic-sign.zip"
      ],
      "execution_count": null,
      "outputs": []
    },
    {
      "cell_type": "code",
      "metadata": {
        "colab": {
          "base_uri": "https://localhost:8080/"
        },
        "id": "Li_sHjjfEgEL",
        "outputId": "dbbd47e5-45ac-4dad-94da-5f433af6a8e6"
      },
      "source": [
        "from google.colab import drive\r\n",
        "drive.mount('/content/drive')"
      ],
      "execution_count": null,
      "outputs": [
        {
          "output_type": "stream",
          "text": [
            "Drive already mounted at /content/drive; to attempt to forcibly remount, call drive.mount(\"/content/drive\", force_remount=True).\n"
          ],
          "name": "stdout"
        }
      ]
    },
    {
      "cell_type": "code",
      "metadata": {
        "id": "7dTL6v7DF5Zf"
      },
      "source": [
        "import zipfile\r\n",
        "with zipfile.ZipFile('/content/drive/MyDrive/Python-Project-Traffic-Sign-Classification.zip', 'r') as zip_ref:\r\n",
        "    zip_ref.extractall('/content/Python-Project-Traffic-Sign-Classification')"
      ],
      "execution_count": null,
      "outputs": []
    },
    {
      "cell_type": "code",
      "metadata": {
        "id": "FSShBtxmDlhi"
      },
      "source": [
        "!cp /content/test -r \"/content/Python-Project-Traffic-Sign-Classification/Traffic sign classification/test\"\r\n",
        "!cp /content/train -r \"/content/Python-Project-Traffic-Sign-Classification/Traffic sign classification/train\"\r\n",
        "!cp /content/meta -r \"/content/Python-Project-Traffic-Sign-Classification/Traffic sign classification/meta\""
      ],
      "execution_count": 62,
      "outputs": []
    },
    {
      "cell_type": "markdown",
      "metadata": {
        "id": "q9WOWsX4MjkV"
      },
      "source": [
        "Main -> (DONT RUN THIS) -> (Because this is training it may take many hours so used tge trained model)"
      ]
    },
    {
      "cell_type": "code",
      "metadata": {
        "id": "aInql9MLMsbn"
      },
      "source": [
        "import numpy as np \r\n",
        "import pandas as pd \r\n",
        "import matplotlib.pyplot as plt\r\n",
        "import cv2\r\n",
        "import tensorflow as tf\r\n",
        "from PIL import Image\r\n",
        "import os\r\n",
        "from sklearn.model_selection import train_test_split\r\n",
        "from keras.utils import to_categorical\r\n",
        "from keras.models import Sequential, load_model\r\n",
        "from keras.layers import Conv2D, MaxPool2D, Dense, Flatten, Dropout\r\n",
        "\r\n",
        "data = []\r\n",
        "labels = []\r\n",
        "classes = 43\r\n",
        "cur_path = os.getcwd()\r\n",
        "\r\n",
        "for i in range(classes):\r\n",
        "    path = os.path.join(cur_path,'train',str(i))\r\n",
        "    images = os.listdir(path)\r\n",
        "\r\n",
        "    for a in images:\r\n",
        "        try:\r\n",
        "            image = Image.open(path + '\\\\'+ a)\r\n",
        "            image = image.resize((30,30))\r\n",
        "            image = np.array(image)\r\n",
        "            #sim = Image.fromarray(image)\r\n",
        "            data.append(image)\r\n",
        "            labels.append(i)\r\n",
        "        except:\r\n",
        "            print(\"Error loading image\")\r\n",
        "\r\n",
        "data = np.array(data)\r\n",
        "labels = np.array(labels)"
      ],
      "execution_count": null,
      "outputs": []
    },
    {
      "cell_type": "code",
      "metadata": {
        "id": "zLzTahgKMze_"
      },
      "source": [
        "print(data.shape, labels.shape)\r\n",
        "X_train, X_test, y_train, y_test = train_test_split(data, labels, test_size=0.2, random_state=42)\r\n",
        "\r\n",
        "print(X_train.shape, X_test.shape, y_train.shape, y_test.shape)\r\n",
        "\r\n",
        "y_train = to_categorical(y_train, 43)\r\n",
        "y_test = to_categorical(y_test, 43)"
      ],
      "execution_count": null,
      "outputs": []
    },
    {
      "cell_type": "code",
      "metadata": {
        "id": "5RJS635eNADJ"
      },
      "source": [
        "model = Sequential()\r\n",
        "model.add(Conv2D(filters=32, kernel_size=(5,5), activation='relu', input_shape=X_train.shape[1:]))\r\n",
        "model.add(Conv2D(filters=32, kernel_size=(5,5), activation='relu'))\r\n",
        "model.add(MaxPool2D(pool_size=(2, 2)))\r\n",
        "model.add(Dropout(rate=0.25))\r\n",
        "model.add(Conv2D(filters=64, kernel_size=(3, 3), activation='relu'))\r\n",
        "model.add(Conv2D(filters=64, kernel_size=(3, 3), activation='relu'))\r\n",
        "model.add(MaxPool2D(pool_size=(2, 2)))\r\n",
        "model.add(Dropout(rate=0.25))\r\n",
        "model.add(Flatten())\r\n",
        "model.add(Dense(256, activation='relu'))\r\n",
        "model.add(Dropout(rate=0.5))\r\n",
        "model.add(Dense(43, activation='softmax'))\r\n",
        "\r\n",
        "#Compilation of the model\r\n",
        "model.compile(loss='categorical_crossentropy', optimizer='adam', metrics=['accuracy'])"
      ],
      "execution_count": null,
      "outputs": []
    },
    {
      "cell_type": "code",
      "metadata": {
        "id": "QhZFi4bGNNlO"
      },
      "source": [
        "epochs = 15\r\n",
        "history = model.fit(X_train, y_train, batch_size=32, epochs=epochs, validation_data=(X_test, y_test))\r\n",
        "model.save(\"my_model.h5\")"
      ],
      "execution_count": null,
      "outputs": []
    },
    {
      "cell_type": "code",
      "metadata": {
        "id": "D5figmu4NPJM"
      },
      "source": [
        "plt.figure(0)\r\n",
        "plt.plot(history.history['accuracy'], label='training accuracy')\r\n",
        "plt.plot(history.history['val_accuracy'], label='val accuracy')\r\n",
        "plt.title('Accuracy')\r\n",
        "plt.xlabel('epochs')\r\n",
        "plt.ylabel('accuracy')\r\n",
        "plt.legend()\r\n",
        "plt.show()\r\n",
        "\r\n",
        "plt.figure(1)\r\n",
        "plt.plot(history.history['loss'], label='training loss')\r\n",
        "plt.plot(history.history['val_loss'], label='val loss')\r\n",
        "plt.title('Loss')\r\n",
        "plt.xlabel('epochs')\r\n",
        "plt.ylabel('loss')\r\n",
        "plt.legend()\r\n",
        "plt.show()"
      ],
      "execution_count": null,
      "outputs": []
    },
    {
      "cell_type": "code",
      "metadata": {
        "colab": {
          "base_uri": "https://localhost:8080/"
        },
        "id": "4g_7Yjt_cdhS",
        "outputId": "208a7a2b-1ae7-4294-df52-140f5317f510"
      },
      "source": [
        "#testing accuracy on test dataset\r\n",
        "from sklearn.metrics import accuracy_score\r\n",
        "\r\n",
        "y_test = pd.read_csv('Test.csv')\r\n",
        "\r\n",
        "labels = y_test[\"ClassId\"].values\r\n",
        "imgs = y_test[\"Path\"].values\r\n",
        "\r\n",
        "data=[]\r\n",
        "\r\n",
        "for img in imgs:\r\n",
        "    image = Image.open(img)\r\n",
        "    image = image.resize((30,30))\r\n",
        "    data.append(np.array(image))\r\n",
        "\r\n",
        "X_test=np.array(data)\r\n",
        "\r\n",
        "pred = model.predict_classes(X_test)\r\n",
        "\r\n",
        "#Accuracy with the test data\r\n",
        "from sklearn.metrics import accuracy_score\r\n",
        "print(accuracy_score(labels, pred))\r\n",
        "\r\n",
        "model.save('traffic_classifier.h5')"
      ],
      "execution_count": 68,
      "outputs": [
        {
          "output_type": "stream",
          "text": [
            "/usr/local/lib/python3.6/dist-packages/tensorflow/python/keras/engine/sequential.py:450: UserWarning: `model.predict_classes()` is deprecated and will be removed after 2021-01-01. Please use instead:* `np.argmax(model.predict(x), axis=-1)`,   if your model does multi-class classification   (e.g. if it uses a `softmax` last-layer activation).* `(model.predict(x) > 0.5).astype(\"int32\")`,   if your model does binary classification   (e.g. if it uses a `sigmoid` last-layer activation).\n",
            "  warnings.warn('`model.predict_classes()` is deprecated and '\n"
          ],
          "name": "stderr"
        },
        {
          "output_type": "stream",
          "text": [
            "0.966904196357878\n",
            "0.966904196357878\n"
          ],
          "name": "stdout"
        }
      ]
    },
    {
      "cell_type": "markdown",
      "metadata": {
        "id": "Hj-W2H_PMtr9"
      },
      "source": [
        "<- Main"
      ]
    },
    {
      "cell_type": "markdown",
      "metadata": {
        "id": "fb0AnxLuc_Cc"
      },
      "source": [
        "Testing ->"
      ]
    },
    {
      "cell_type": "code",
      "metadata": {
        "id": "m5ZrO5Gney6f"
      },
      "source": [
        "# testing accuracy on test dataset\r\n",
        "from sklearn.metrics import accuracy_score\r\n",
        "import pandas as pd\r\n",
        "from PIL import Image\r\n",
        "import numpy as np\r\n",
        "from keras.models import load_model\r\n",
        "model = load_model('/content/Python-Project-Traffic-Sign-Classification/Traffic sign classification/traffic_classifier.h5')\r\n",
        "\r\n",
        "y_test = pd.read_csv('Test.csv')\r\n",
        "\r\n",
        "labels = y_test[\"ClassId\"].values\r\n",
        "imgs = y_test[\"Path\"].values\r\n",
        "\r\n",
        "data=[]\r\n",
        "\r\n",
        "for img in imgs:\r\n",
        "    image = Image.open(img)\r\n",
        "    image = image.resize((30,30))\r\n",
        "    data.append(np.array(image))\r\n",
        "\r\n",
        "X_test=np.array(data)\r\n",
        "\r\n",
        "pred = model.predict_classes(X_test)\r\n",
        "\r\n",
        "#Accuracy with the test data\r\n",
        "from sklearn.metrics import accuracy_score\r\n",
        "print(accuracy_score(labels, pred))\r\n",
        "\r\n",
        "# model.save('traffic_classifier.h5')\r\n",
        "\r\n",
        "#Accuracy with the test data\r\n",
        "from sklearn.metrics import accuracy_score\r\n",
        "print(accuracy_score(labels, pred))"
      ],
      "execution_count": null,
      "outputs": []
    },
    {
      "cell_type": "markdown",
      "metadata": {
        "id": "ImjF6tgIe0sH"
      },
      "source": [
        "Test is Done Now This Is Fun"
      ]
    },
    {
      "cell_type": "code",
      "metadata": {
        "colab": {
          "base_uri": "https://localhost:8080/"
        },
        "id": "x4B1gdfsdHWs",
        "outputId": "e1f609ad-95c9-4afd-81ac-64cdd55ef80a"
      },
      "source": [
        "# import os\r\n",
        "# os.chdir(os.path.dirname(__file__))\r\n",
        "from google.colab import files\r\n",
        "from PIL import Image\r\n",
        "import numpy\r\n",
        "#load the trained model to classify sign\r\n",
        "from keras.models import load_model\r\n",
        "model = load_model('/content/Python-Project-Traffic-Sign-Classification/Traffic sign classification/traffic_classifier.h5')\r\n",
        "\r\n",
        "#dictionary to label all traffic signs class.\r\n",
        "classes = { 1:'Speed limit (20km/h)',\r\n",
        "            2:'Speed limit (30km/h)',      \r\n",
        "            3:'Speed limit (50km/h)',       \r\n",
        "            4:'Speed limit (60km/h)',      \r\n",
        "            5:'Speed limit (70km/h)',    \r\n",
        "            6:'Speed limit (80km/h)',      \r\n",
        "            7:'End of speed limit (80km/h)',     \r\n",
        "            8:'Speed limit (100km/h)',    \r\n",
        "            9:'Speed limit (120km/h)',     \r\n",
        "           10:'No passing',   \r\n",
        "           11:'No passing veh over 3.5 tons',     \r\n",
        "           12:'Right-of-way at intersection',     \r\n",
        "           13:'Priority road',    \r\n",
        "           14:'Yield',     \r\n",
        "           15:'Stop',       \r\n",
        "           16:'No vehicles',       \r\n",
        "           17:'Veh > 3.5 tons prohibited',       \r\n",
        "           18:'No entry',       \r\n",
        "           19:'General caution',     \r\n",
        "           20:'Dangerous curve left',      \r\n",
        "           21:'Dangerous curve right',   \r\n",
        "           22:'Double curve',      \r\n",
        "           23:'Bumpy road',     \r\n",
        "           24:'Slippery road',       \r\n",
        "           25:'Road narrows on the right',  \r\n",
        "           26:'Road work',    \r\n",
        "           27:'Traffic signals',      \r\n",
        "           28:'Pedestrians',     \r\n",
        "           29:'Children crossing',     \r\n",
        "           30:'Bicycles crossing',       \r\n",
        "           31:'Beware of ice/snow',\r\n",
        "           32:'Wild animals crossing',      \r\n",
        "           33:'End speed + passing limits',      \r\n",
        "           34:'Turn right ahead',     \r\n",
        "           35:'Turn left ahead',       \r\n",
        "           36:'Ahead only',      \r\n",
        "           37:'Go straight or right',      \r\n",
        "           38:'Go straight or left',      \r\n",
        "           39:'Keep right',     \r\n",
        "           40:'Keep left',      \r\n",
        "           41:'Roundabout mandatory',     \r\n",
        "           42:'End of no passing',      \r\n",
        "           43:'End no passing veh > 3.5 tons' }\r\n",
        "\r\n",
        "# uploaded = files.upload()\r\n",
        "# file_path = uploaded.keys()[0]\r\n",
        "file_path = '/content/Python-Project-Traffic-Sign-Classification/Traffic sign classification/train/0/00000_00000_00000.png'\r\n",
        "image = Image.open(file_path)\r\n",
        "image = image.resize((30,30))\r\n",
        "image = numpy.expand_dims(image, axis=0)\r\n",
        "image = numpy.array(image)\r\n",
        "print(image.shape)\r\n",
        "pred = model.predict_classes([image])[0]\r\n",
        "sign = classes[pred+1]\r\n",
        "print('Sign:', sign)"
      ],
      "execution_count": 74,
      "outputs": [
        {
          "output_type": "stream",
          "text": [
            "(1, 30, 30, 3)\n",
            "Sign: Speed limit (20km/h)\n"
          ],
          "name": "stdout"
        },
        {
          "output_type": "stream",
          "text": [
            "/usr/local/lib/python3.6/dist-packages/tensorflow/python/keras/engine/sequential.py:450: UserWarning: `model.predict_classes()` is deprecated and will be removed after 2021-01-01. Please use instead:* `np.argmax(model.predict(x), axis=-1)`,   if your model does multi-class classification   (e.g. if it uses a `softmax` last-layer activation).* `(model.predict(x) > 0.5).astype(\"int32\")`,   if your model does binary classification   (e.g. if it uses a `sigmoid` last-layer activation).\n",
            "  warnings.warn('`model.predict_classes()` is deprecated and '\n"
          ],
          "name": "stderr"
        }
      ]
    },
    {
      "cell_type": "markdown",
      "metadata": {
        "id": "Uv6LZb0ic-gK"
      },
      "source": [
        "<- Testing "
      ]
    },
    {
      "cell_type": "code",
      "metadata": {
        "id": "XzaKDwEzyCmZ"
      },
      "source": [
        "import os, shutil\r\n",
        "\r\n",
        "files = os.listdir()\r\n",
        "ignoredFiles = ['.ipynb_checkpoints', 'sample_data', '.config', 'kaggle.json']\r\n",
        "\r\n",
        "# print(files)\r\n",
        "\r\n",
        "for file in files:\r\n",
        "  index = 0\r\n",
        "  indexL = []\r\n",
        "  for ignoredFile in ignoredFiles:\r\n",
        "    index += 1\r\n",
        "    if file != ignoredFile:\r\n",
        "      indexL.append(index)\r\n",
        "  if len(indexL) == 4:\r\n",
        "    print(file)\r\n",
        "    try:\r\n",
        "      shutil.rmtree(file)\r\n",
        "    except:\r\n",
        "      try:\r\n",
        "        os.remove('/content/' + file)\r\n",
        "      except Exception as e:\r\n",
        "        print('Error: ', e)"
      ],
      "execution_count": null,
      "outputs": []
    }
  ]
}