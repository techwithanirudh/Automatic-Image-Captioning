{
  "nbformat": 4,
  "nbformat_minor": 0,
  "metadata": {
    "colab": {
      "name": "DataFromIp",
      "provenance": [],
      "authorship_tag": "ABX9TyOnVVIH2ih8s2aK3Mwvtu2R",
      "include_colab_link": true
    },
    "kernelspec": {
      "name": "python3",
      "display_name": "Python 3"
    }
  },
  "cells": [
    {
      "cell_type": "markdown",
      "metadata": {
        "id": "view-in-github",
        "colab_type": "text"
      },
      "source": [
        "<a href=\"https://colab.research.google.com/github/techwithanirudh/Automatic-Image-Captioning/blob/master/DataFromIp.ipynb\" target=\"_parent\"><img src=\"https://colab.research.google.com/assets/colab-badge.svg\" alt=\"Open In Colab\"/></a>"
      ]
    },
    {
      "cell_type": "code",
      "metadata": {
        "id": "VWYeCqqNUler"
      },
      "source": [
        "!pip install flask_ngrok flask_cors ipinfo\r\n",
        "# docs ipinfo https://github.com/ipinfo/python"
      ],
      "execution_count": null,
      "outputs": []
    },
    {
      "cell_type": "code",
      "metadata": {
        "id": "cYgUdznRV8fR"
      },
      "source": [
        "from flask import Flask, render_template, jsonify, request\r\n",
        "from flask_ngrok import run_with_ngrok\r\n",
        "from flask_cors import CORS\r\n",
        "\r\n",
        "app = Flask(__name__)\r\n",
        "CORS(app)\r\n",
        "run_with_ngrok(app)\r\n",
        "\r\n",
        "@app.route('/')\r\n",
        "def ip_get():\r\n",
        "  if request.environ.get('HTTP_X_FORWARDED_FOR') is None:\r\n",
        "    jsonIp = {'ip': request.environ['REMOTE_ADDR']})\r\n",
        "  else:\r\n",
        "    jsonIp = {'ip': request.environ['HTTP_X_FORWARDED_FOR']}\r\n",
        "\r\n",
        "  print(jsonIp)\r\n",
        "  return jsonify(jsonIp), 200\r\n",
        "\r\n",
        "app.run()"
      ],
      "execution_count": null,
      "outputs": []
    },
    {
      "cell_type": "code",
      "metadata": {
        "id": "oLanQlR2UKW2"
      },
      "source": [
        "import ipinfo\r\n",
        "\r\n",
        "access_token = ''\r\n",
        "handler = ipinfo.getHandler(access_token)\r\n",
        "ip_address = jsonIp['ip']\r\n",
        "details = handler.getDetails(ip_address)\r\n",
        "print(details.all)"
      ],
      "execution_count": null,
      "outputs": []
    }
  ]
}