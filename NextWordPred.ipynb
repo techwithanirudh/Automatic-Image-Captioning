{
  "nbformat": 4,
  "nbformat_minor": 0,
  "metadata": {
    "colab": {
      "name": "NextWordPred",
      "provenance": [],
      "collapsed_sections": [],
      "authorship_tag": "ABX9TyPNCm3fb7AAMVD44WI+aqhQ",
      "include_colab_link": true
    },
    "kernelspec": {
      "name": "python3",
      "display_name": "Python 3"
    },
    "accelerator": "GPU"
  },
  "cells": [
    {
      "cell_type": "markdown",
      "metadata": {
        "id": "view-in-github",
        "colab_type": "text"
      },
      "source": [
        "<a href=\"https://colab.research.google.com/github/techwithanirudh/Automatic-Image-Captioning/blob/master/NextWordPred.ipynb\" target=\"_parent\"><img src=\"https://colab.research.google.com/assets/colab-badge.svg\" alt=\"Open In Colab\"/></a>"
      ]
    },
    {
      "cell_type": "markdown",
      "metadata": {
        "id": "aB4fU6xOKqC3"
      },
      "source": [
        "Credits: https://medium.com/@curiousily/making-a-predictive-keyboard-using-recurrent-neural-networks-tensorflow-for-hackers-part-v-3f238d824218\r\n"
      ]
    },
    {
      "cell_type": "code",
      "metadata": {
        "id": "b-XtOoAY6Plv"
      },
      "source": [
        "import os\r\n",
        "\r\n",
        "os.mkdir('/content/NextWordPred')\r\n",
        "os.chdir('/content/NextWordPred')"
      ],
      "execution_count": 1,
      "outputs": []
    },
    {
      "cell_type": "code",
      "metadata": {
        "id": "xGuNrufj63Bq",
        "colab": {
          "base_uri": "https://localhost:8080/"
        },
        "outputId": "c8633def-49d1-44f4-e591-c294f789985d"
      },
      "source": [
        "!wget https://raw.githubusercontent.com/techwithanirudh/Shared/6f217f0e2fb11ac4601eb0e0ffc30348ca1021b9/1661-0.txt"
      ],
      "execution_count": 2,
      "outputs": [
        {
          "output_type": "stream",
          "text": [
            "--2021-02-05 17:07:12--  https://raw.githubusercontent.com/techwithanirudh/Shared/6f217f0e2fb11ac4601eb0e0ffc30348ca1021b9/1661-0.txt\n",
            "Resolving raw.githubusercontent.com (raw.githubusercontent.com)... 151.101.0.133, 151.101.64.133, 151.101.128.133, ...\n",
            "Connecting to raw.githubusercontent.com (raw.githubusercontent.com)|151.101.0.133|:443... connected.\n",
            "HTTP request sent, awaiting response... 200 OK\n",
            "Length: 595482 (582K) [text/plain]\n",
            "Saving to: ‘1661-0.txt’\n",
            "\n",
            "\r1661-0.txt            0%[                    ]       0  --.-KB/s               \r1661-0.txt          100%[===================>] 581.53K  --.-KB/s    in 0.01s   \n",
            "\n",
            "2021-02-05 17:07:13 (47.2 MB/s) - ‘1661-0.txt’ saved [595482/595482]\n",
            "\n"
          ],
          "name": "stdout"
        }
      ]
    },
    {
      "cell_type": "code",
      "metadata": {
        "id": "YJ8XsDCv-Kww"
      },
      "source": [
        "import numpy as np\r\n",
        "np.random.seed(42)\r\n",
        "import tensorflow as tf\r\n",
        "tf.random.set_seed(42)\r\n",
        "from keras.models import Sequential, load_model\r\n",
        "from keras.layers import Dense, Activation\r\n",
        "from keras.layers import LSTM, Dropout\r\n",
        "from keras.layers import TimeDistributed\r\n",
        "from keras.layers.core import Dense, Activation, Dropout, RepeatVector\r\n",
        "from keras.optimizers import RMSprop\r\n",
        "import matplotlib.pyplot as plt\r\n",
        "import pickle\r\n",
        "import sys\r\n",
        "import heapq\r\n",
        "import seaborn as sns\r\n",
        "from pylab import rcParams\r\n",
        "\r\n",
        "%matplotlib inline\r\n",
        "\r\n",
        "sns.set(style='whitegrid', palette='muted', font_scale=1.5)\r\n",
        "\r\n",
        "rcParams['figure.figsize'] = 12, 5"
      ],
      "execution_count": 3,
      "outputs": []
    },
    {
      "cell_type": "code",
      "metadata": {
        "colab": {
          "base_uri": "https://localhost:8080/"
        },
        "id": "JyQskZVWIa4g",
        "outputId": "ce9b2f1e-59b4-49f7-8cd9-bd4aa6c7c197"
      },
      "source": [
        "path = '1661-0.txt'\r\n",
        "text = open(path).read().lower()\r\n",
        "print('corpus length:', len(text))"
      ],
      "execution_count": 4,
      "outputs": [
        {
          "output_type": "stream",
          "text": [
            "corpus length: 581889\n"
          ],
          "name": "stdout"
        }
      ]
    },
    {
      "cell_type": "code",
      "metadata": {
        "colab": {
          "base_uri": "https://localhost:8080/"
        },
        "id": "ETdLqAfBIhNi",
        "outputId": "f4e40367-833c-4ff7-bae2-26d352b6b63f"
      },
      "source": [
        "chars = sorted(list(set(text)))\r\n",
        "char_indices = dict((c, i) for i, c in enumerate(chars))\r\n",
        "indices_char = dict((i, c) for i, c in enumerate(chars))\r\n",
        "\r\n",
        "print(f'unique chars: {len(chars)}')"
      ],
      "execution_count": 5,
      "outputs": [
        {
          "output_type": "stream",
          "text": [
            "unique chars: 73\n"
          ],
          "name": "stdout"
        }
      ]
    },
    {
      "cell_type": "code",
      "metadata": {
        "colab": {
          "base_uri": "https://localhost:8080/"
        },
        "id": "XRkO5l8VIrEg",
        "outputId": "c9cc3ee4-8a3b-481b-cbb8-0072b89aa892"
      },
      "source": [
        "SEQUENCE_LENGTH = 40\r\n",
        "step = 3\r\n",
        "sentences = []\r\n",
        "next_chars = []\r\n",
        "for i in range(0, len(text) - SEQUENCE_LENGTH, step):\r\n",
        "    sentences.append(text[i: i + SEQUENCE_LENGTH])\r\n",
        "    next_chars.append(text[i + SEQUENCE_LENGTH])\r\n",
        "print(f'num training examples: {len(sentences)}')"
      ],
      "execution_count": 6,
      "outputs": [
        {
          "output_type": "stream",
          "text": [
            "num training examples: 193950\n"
          ],
          "name": "stdout"
        }
      ]
    },
    {
      "cell_type": "code",
      "metadata": {
        "id": "b8Vhy4ngIsU_"
      },
      "source": [
        "X = np.zeros((len(sentences), SEQUENCE_LENGTH, len(chars)), dtype=np.bool)\r\n",
        "y = np.zeros((len(sentences), len(chars)), dtype=np.bool)\r\n",
        "for i, sentence in enumerate(sentences):\r\n",
        "    for t, char in enumerate(sentence):\r\n",
        "        X[i, t, char_indices[char]] = 1\r\n",
        "    y[i, char_indices[next_chars[i]]] = 1"
      ],
      "execution_count": 7,
      "outputs": []
    },
    {
      "cell_type": "code",
      "metadata": {
        "colab": {
          "base_uri": "https://localhost:8080/"
        },
        "id": "fe2xRbyeIwmu",
        "outputId": "1607181a-67ca-4c6a-d9eb-4a2f00b215d4"
      },
      "source": [
        "sentences[100]\r\n",
        "next_chars[100]\r\n",
        "X[0][0]\r\n",
        "y[0]\r\n",
        "X.shape\r\n",
        "y.shape"
      ],
      "execution_count": 8,
      "outputs": [
        {
          "output_type": "execute_result",
          "data": {
            "text/plain": [
              "(193950, 73)"
            ]
          },
          "metadata": {
            "tags": []
          },
          "execution_count": 8
        }
      ]
    },
    {
      "cell_type": "markdown",
      "metadata": {
        "id": "NWadrnEiMJOI"
      },
      "source": [
        "If you want the model you can just download it: https://drive.google.com/file/d/1--6CEy98HcFoocdbRAAQ34_5Y4rxm8Ta/view?usp=sharing"
      ]
    },
    {
      "cell_type": "code",
      "metadata": {
        "id": "NPPBpwPSI_AC"
      },
      "source": [
        "model = Sequential()\r\n",
        "model.add(LSTM(128, input_shape=(SEQUENCE_LENGTH, len(chars))))\r\n",
        "model.add(Dense(len(chars)))\r\n",
        "model.add(Activation('softmax'))"
      ],
      "execution_count": 9,
      "outputs": []
    },
    {
      "cell_type": "code",
      "metadata": {
        "colab": {
          "base_uri": "https://localhost:8080/"
        },
        "id": "k2UVRRrhJCMA",
        "outputId": "eed5562e-bf0f-4fe4-ffaf-76c22c22dece"
      },
      "source": [
        "optimizer = RMSprop(lr=0.01)\r\n",
        "model.compile(loss='categorical_crossentropy', optimizer=optimizer, metrics=['accuracy'])\r\n",
        "history = model.fit(X, y, validation_split=0.05, batch_size=128, epochs=20, shuffle=True).history"
      ],
      "execution_count": 10,
      "outputs": [
        {
          "output_type": "stream",
          "text": [
            "Epoch 1/20\n",
            "1440/1440 [==============================] - 16s 6ms/step - loss: 2.2297 - accuracy: 0.3584 - val_loss: 2.1058 - val_accuracy: 0.4145\n",
            "Epoch 2/20\n",
            "1440/1440 [==============================] - 8s 6ms/step - loss: 1.6364 - accuracy: 0.5094 - val_loss: 2.0472 - val_accuracy: 0.4407\n",
            "Epoch 3/20\n",
            "1440/1440 [==============================] - 8s 6ms/step - loss: 1.5166 - accuracy: 0.5431 - val_loss: 2.0174 - val_accuracy: 0.4577\n",
            "Epoch 4/20\n",
            "1440/1440 [==============================] - 8s 6ms/step - loss: 1.4576 - accuracy: 0.5595 - val_loss: 2.0163 - val_accuracy: 0.4559\n",
            "Epoch 5/20\n",
            "1440/1440 [==============================] - 8s 6ms/step - loss: 1.4202 - accuracy: 0.5695 - val_loss: 2.0116 - val_accuracy: 0.4654\n",
            "Epoch 6/20\n",
            "1440/1440 [==============================] - 8s 6ms/step - loss: 1.3964 - accuracy: 0.5756 - val_loss: 2.0078 - val_accuracy: 0.4583\n",
            "Epoch 7/20\n",
            "1440/1440 [==============================] - 8s 6ms/step - loss: 1.3711 - accuracy: 0.5826 - val_loss: 2.0035 - val_accuracy: 0.4670\n",
            "Epoch 8/20\n",
            "1440/1440 [==============================] - 8s 6ms/step - loss: 1.3576 - accuracy: 0.5859 - val_loss: 2.0012 - val_accuracy: 0.4734\n",
            "Epoch 9/20\n",
            "1440/1440 [==============================] - 8s 5ms/step - loss: 1.3421 - accuracy: 0.5912 - val_loss: 2.0120 - val_accuracy: 0.4654\n",
            "Epoch 10/20\n",
            "1440/1440 [==============================] - 8s 6ms/step - loss: 1.3299 - accuracy: 0.5927 - val_loss: 2.0052 - val_accuracy: 0.4683\n",
            "Epoch 11/20\n",
            "1440/1440 [==============================] - 8s 6ms/step - loss: 1.3217 - accuracy: 0.5953 - val_loss: 2.0207 - val_accuracy: 0.4674\n",
            "Epoch 12/20\n",
            "1440/1440 [==============================] - 8s 6ms/step - loss: 1.3125 - accuracy: 0.5982 - val_loss: 2.0156 - val_accuracy: 0.4639\n",
            "Epoch 13/20\n",
            "1440/1440 [==============================] - 8s 5ms/step - loss: 1.3007 - accuracy: 0.6005 - val_loss: 2.0289 - val_accuracy: 0.4741\n",
            "Epoch 14/20\n",
            "1440/1440 [==============================] - 8s 6ms/step - loss: 1.3028 - accuracy: 0.6011 - val_loss: 2.0786 - val_accuracy: 0.4673\n",
            "Epoch 15/20\n",
            "1440/1440 [==============================] - 8s 6ms/step - loss: 1.2968 - accuracy: 0.6029 - val_loss: 2.0388 - val_accuracy: 0.4609\n",
            "Epoch 16/20\n",
            "1440/1440 [==============================] - 8s 6ms/step - loss: 1.2879 - accuracy: 0.6042 - val_loss: 2.0176 - val_accuracy: 0.4677\n",
            "Epoch 17/20\n",
            "1440/1440 [==============================] - 8s 6ms/step - loss: 1.2813 - accuracy: 0.6056 - val_loss: 2.0509 - val_accuracy: 0.4721\n",
            "Epoch 18/20\n",
            "1440/1440 [==============================] - 8s 5ms/step - loss: 1.2795 - accuracy: 0.6057 - val_loss: 2.0772 - val_accuracy: 0.4665\n",
            "Epoch 19/20\n",
            "1440/1440 [==============================] - 8s 5ms/step - loss: 1.2721 - accuracy: 0.6085 - val_loss: 2.0857 - val_accuracy: 0.4656\n",
            "Epoch 20/20\n",
            "1440/1440 [==============================] - 8s 5ms/step - loss: 1.2686 - accuracy: 0.6085 - val_loss: 2.1021 - val_accuracy: 0.4624\n"
          ],
          "name": "stdout"
        }
      ]
    },
    {
      "cell_type": "code",
      "metadata": {
        "id": "YK2rlBg_JiaC"
      },
      "source": [
        "model.save('keras_model.h5')\r\n",
        "pickle.dump(history, open(\"history.p\", \"wb\"))"
      ],
      "execution_count": 11,
      "outputs": []
    },
    {
      "cell_type": "code",
      "metadata": {
        "colab": {
          "base_uri": "https://localhost:8080/"
        },
        "id": "cLRI_PRqKRum",
        "outputId": "e239d7b1-8a46-4677-d596-715a0ceb8e19"
      },
      "source": [
        "from google.colab import drive\n",
        "drive.mount('/content/drive')"
      ],
      "execution_count": 12,
      "outputs": [
        {
          "output_type": "stream",
          "text": [
            "Mounted at /content/drive\n"
          ],
          "name": "stdout"
        }
      ]
    },
    {
      "cell_type": "code",
      "metadata": {
        "id": "NPPzhmk5LW82"
      },
      "source": [
        "!mkdir /content/drive/MyDrive/NextWordPred\r\n",
        "!cp /content/NextWordPred/keras_model.h5 /content/drive/MyDrive/NextWordPred/keras_model.h5"
      ],
      "execution_count": 13,
      "outputs": []
    },
    {
      "cell_type": "markdown",
      "metadata": {
        "id": "seKLGaWjJpZB"
      },
      "source": [
        "Testing\r\n"
      ]
    },
    {
      "cell_type": "code",
      "metadata": {
        "id": "yAFVQoS2Jkj9"
      },
      "source": [
        "model = load_model('keras_model.h5')\r\n",
        "history = pickle.load(open(\"history.p\", \"rb\"))"
      ],
      "execution_count": 14,
      "outputs": []
    },
    {
      "cell_type": "code",
      "metadata": {
        "colab": {
          "base_uri": "https://localhost:8080/",
          "height": 244
        },
        "id": "BAKx-sTZJJgV",
        "outputId": "af0515dd-fa1a-4a22-dad6-b4be0dc4cf99"
      },
      "source": [
        "plt.plot(history['acc'])\r\n",
        "plt.plot(history['val_acc'])\r\n",
        "plt.title('model accuracy')\r\n",
        "plt.ylabel('accuracy')\r\n",
        "plt.xlabel('epoch')\r\n",
        "plt.legend(['train', 'test'], loc='upper left');"
      ],
      "execution_count": 15,
      "outputs": [
        {
          "output_type": "error",
          "ename": "KeyError",
          "evalue": "ignored",
          "traceback": [
            "\u001b[0;31m---------------------------------------------------------------------------\u001b[0m",
            "\u001b[0;31mKeyError\u001b[0m                                  Traceback (most recent call last)",
            "\u001b[0;32m<ipython-input-15-5cc61625066f>\u001b[0m in \u001b[0;36m<module>\u001b[0;34m()\u001b[0m\n\u001b[0;32m----> 1\u001b[0;31m \u001b[0mplt\u001b[0m\u001b[0;34m.\u001b[0m\u001b[0mplot\u001b[0m\u001b[0;34m(\u001b[0m\u001b[0mhistory\u001b[0m\u001b[0;34m[\u001b[0m\u001b[0;34m'acc'\u001b[0m\u001b[0;34m]\u001b[0m\u001b[0;34m)\u001b[0m\u001b[0;34m\u001b[0m\u001b[0;34m\u001b[0m\u001b[0m\n\u001b[0m\u001b[1;32m      2\u001b[0m \u001b[0mplt\u001b[0m\u001b[0;34m.\u001b[0m\u001b[0mplot\u001b[0m\u001b[0;34m(\u001b[0m\u001b[0mhistory\u001b[0m\u001b[0;34m[\u001b[0m\u001b[0;34m'val_acc'\u001b[0m\u001b[0;34m]\u001b[0m\u001b[0;34m)\u001b[0m\u001b[0;34m\u001b[0m\u001b[0;34m\u001b[0m\u001b[0m\n\u001b[1;32m      3\u001b[0m \u001b[0mplt\u001b[0m\u001b[0;34m.\u001b[0m\u001b[0mtitle\u001b[0m\u001b[0;34m(\u001b[0m\u001b[0;34m'model accuracy'\u001b[0m\u001b[0;34m)\u001b[0m\u001b[0;34m\u001b[0m\u001b[0;34m\u001b[0m\u001b[0m\n\u001b[1;32m      4\u001b[0m \u001b[0mplt\u001b[0m\u001b[0;34m.\u001b[0m\u001b[0mylabel\u001b[0m\u001b[0;34m(\u001b[0m\u001b[0;34m'accuracy'\u001b[0m\u001b[0;34m)\u001b[0m\u001b[0;34m\u001b[0m\u001b[0;34m\u001b[0m\u001b[0m\n\u001b[1;32m      5\u001b[0m \u001b[0mplt\u001b[0m\u001b[0;34m.\u001b[0m\u001b[0mxlabel\u001b[0m\u001b[0;34m(\u001b[0m\u001b[0;34m'epoch'\u001b[0m\u001b[0;34m)\u001b[0m\u001b[0;34m\u001b[0m\u001b[0;34m\u001b[0m\u001b[0m\n",
            "\u001b[0;31mKeyError\u001b[0m: 'acc'"
          ]
        }
      ]
    },
    {
      "cell_type": "code",
      "metadata": {
        "colab": {
          "base_uri": "https://localhost:8080/",
          "height": 372
        },
        "id": "YdjRn134Ju3g",
        "outputId": "ea7ca8e8-ec4e-4f91-8ecc-86a1821e2a3c"
      },
      "source": [
        "plt.plot(history['loss'])\r\n",
        "plt.plot(history['val_loss'])\r\n",
        "plt.title('model loss')\r\n",
        "plt.ylabel('loss')\r\n",
        "plt.xlabel('epoch')\r\n",
        "plt.legend(['train', 'test'], loc='upper left');"
      ],
      "execution_count": 16,
      "outputs": [
        {
          "output_type": "display_data",
          "data": {
            "image/png": "[encoded data removed]",
            "text/plain": [
              "<Figure size 864x360 with 1 Axes>"
            ]
          },
          "metadata": {
            "tags": []
          }
        }
      ]
    },
    {
      "cell_type": "code",
      "metadata": {
        "id": "equKgBOOJyFs"
      },
      "source": [
        "def prepare_input(text):\r\n",
        "    x = np.zeros((1, SEQUENCE_LENGTH, len(chars)))\r\n",
        "    for t, char in enumerate(text):\r\n",
        "        x[0, t, char_indices[char]] = 1.\r\n",
        "        \r\n",
        "    return x"
      ],
      "execution_count": 17,
      "outputs": []
    },
    {
      "cell_type": "code",
      "metadata": {
        "id": "Gm7w3UThJ1zv"
      },
      "source": [
        "def sample(preds, top_n=3):\r\n",
        "    preds = np.asarray(preds).astype('float64')\r\n",
        "    preds = np.log(preds)\r\n",
        "    exp_preds = np.exp(preds)\r\n",
        "    preds = exp_preds / np.sum(exp_preds)\r\n",
        "    \r\n",
        "    return heapq.nlargest(top_n, range(len(preds)), preds.take)"
      ],
      "execution_count": 18,
      "outputs": []
    },
    {
      "cell_type": "code",
      "metadata": {
        "id": "fdk41GbbJ5y6"
      },
      "source": [
        "def predict_completion(text):\r\n",
        "    original_text = text\r\n",
        "    generated = text\r\n",
        "    completion = ''\r\n",
        "    while True:\r\n",
        "        x = prepare_input(text)\r\n",
        "        preds = model.predict(x, verbose=0)[0]\r\n",
        "        next_index = sample(preds, top_n=1)[0]\r\n",
        "        next_char = indices_char[next_index]\r\n",
        "        text = text[1:] + next_char\r\n",
        "        completion += next_char\r\n",
        "        \r\n",
        "        if len(original_text + completion) + 2 > len(original_text) and next_char == ' ':\r\n",
        "            return completion"
      ],
      "execution_count": 19,
      "outputs": []
    },
    {
      "cell_type": "code",
      "metadata": {
        "id": "gQII68fzJ6fI"
      },
      "source": [
        "quotes = [\r\n",
        "    \"It is not a lack of love, but a lack of friendship that makes unhappy marriages.\",\r\n",
        "    \"That which does not kill us makes us stronger.\",\r\n",
        "    \"I'm not upset that you lied to me, I'm upset that from now on I can't believe you.\",\r\n",
        "    \"And those who were seen dancing were thought to be insane by those who could not hear the music.\",\r\n",
        "    \"It is hard enough to remember my opinions, without also remembering my reasons for them!\"\r\n",
        "]"
      ],
      "execution_count": 20,
      "outputs": []
    },
    {
      "cell_type": "code",
      "metadata": {
        "colab": {
          "base_uri": "https://localhost:8080/"
        },
        "id": "DL_MfTCeKMnE",
        "outputId": "a79c0f20-f616-4e7a-951f-d5bcdac78ee7"
      },
      "source": [
        "for q in quotes:\r\n",
        "    seq = q[:40].lower()\r\n",
        "    print(seq)\r\n",
        "    print(predict_completion(seq))\r\n",
        "    print()"
      ],
      "execution_count": 23,
      "outputs": [
        {
          "output_type": "stream",
          "text": [
            "it is not a lack of love, but a lack of \n",
            "the \n",
            "\n",
            "that which does not kill us makes us str\n",
            "eam \n",
            "\n",
            "i'm not upset that you lied to me, i'm u\n",
            "pon \n",
            "\n",
            "and those who were seen dancing were tho\n",
            "ugh \n",
            "\n",
            "it is hard enough to remember my opinion\n",
            " \n",
            "\n"
          ],
          "name": "stdout"
        }
      ]
    },
    {
      "cell_type": "code",
      "metadata": {
        "id": "Opg-yhjn6xeP"
      },
      "source": [
        "import shutil\r\n",
        "\r\n",
        "shutil.rmtree('/content/NextWordPred')"
      ],
      "execution_count": null,
      "outputs": []
    }
  ]
}