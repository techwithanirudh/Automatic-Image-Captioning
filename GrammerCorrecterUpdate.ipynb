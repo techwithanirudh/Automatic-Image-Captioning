{
  "nbformat": 4,
  "nbformat_minor": 0,
  "metadata": {
    "colab": {
      "name": "GrammerCorrecter",
      "provenance": [],
      "collapsed_sections": [],
      "authorship_tag": "ABX9TyNji/VyHRaqT28icmdqK09Q",
      "include_colab_link": true
    },
    "kernelspec": {
      "name": "python3",
      "display_name": "Python 3"
    }
  },
  "cells": [
    {
      "cell_type": "markdown",
      "metadata": {
        "id": "view-in-github",
        "colab_type": "text"
      },
      "source": [
        "<a href=\"https://colab.research.google.com/github/techwithanirudh/Automatic-Image-Captioning/blob/master/GrammerCorrecterUpdate.ipynb\" target=\"_parent\"><img src=\"https://colab.research.google.com/assets/colab-badge.svg\" alt=\"Open In Colab\"/></a>"
      ]
    },
    {
      "cell_type": "code",
      "metadata": {
        "id": "pEeLOlCsjcy_"
      },
      "source": [
        "# !sudo apt install openjdk-8-jdk\r\n",
        "# !sudo update-alternatives --set java /usr/lib/jvm/java-8-openjdk-amd64/jre/bin/java\r\n",
        "# !pip install language-check\r\n",
        "# !pip install pycontractions\r\n",
        "!pip install flask_ngrok"
      ],
      "execution_count": null,
      "outputs": []
    },
    {
      "cell_type": "code",
      "metadata": {
        "id": "x4-MlaRrlQYU"
      },
      "source": [
        "import language_check \r\n",
        "\r\n",
        "tool = language_check.LanguageTool('en-US') \r\n",
        "line = 'Hi I an umbrella'\r\n",
        "matches = tool.check(line) \r\n",
        "for mistake in matches: \r\n",
        "  mistake = str(mistake)\r\n",
        "  mistake = mistake.split('Message: ')[1].replace('^', '')\r\n",
        "  # mistake = mistake.split('})]')[1]\r\n",
        "  print(mistake) "
      ],
      "execution_count": 15,
      "outputs": []
    },
    {
      "cell_type": "code",
      "metadata": {
        "colab": {
          "base_uri": "https://localhost:8080/"
        },
        "id": "UVIFqz0Re_aU",
        "outputId": "b1eca5b6-96bd-4bc5-a0fd-04c382625f2e"
      },
      "source": [
        "# RUN THIS\r\n",
        "\r\n",
        "import language_check \r\n",
        "from flask import Flask\r\n",
        "from flask_ngrok import run_with_ngrok\r\n",
        "\r\n",
        "app = Flask(__name__)\r\n",
        "run_with_ngrok(app)\r\n",
        "tool = language_check.LanguageTool('en-US') \r\n",
        "\r\n",
        "@app.route('/api/req/<sentence>')\r\n",
        "def apiReq(sentence):\r\n",
        "  sentence = sentence.replace('-', ' ')\r\n",
        "  matches = tool.check(sentence) \r\n",
        "  mistakes = ''\r\n",
        "  print(sentence)\r\n",
        "  for mistake in matches: \r\n",
        "    mistake = str(mistake)\r\n",
        "    mistake = mistake.split('Message: ')[1]\r\n",
        "    print(mistake)\r\n",
        "    if '^' in mistake:\r\n",
        "      mistakes += '\\n'  \r\n",
        "    mistakes += mistake\r\n",
        "  return mistakes\r\n",
        "\r\n",
        "if __name__ == '__main__':\r\n",
        "  app.run()"
      ],
      "execution_count": 16,
      "outputs": [
        {
          "output_type": "stream",
          "text": [
            " * Serving Flask app \"__main__\" (lazy loading)\n",
            " * Environment: production\n",
            "\u001b[31m   WARNING: This is a development server. Do not use it in a production deployment.\u001b[0m\n",
            "\u001b[2m   Use a production WSGI server instead.\u001b[0m\n",
            " * Debug mode: off\n"
          ],
          "name": "stdout"
        },
        {
          "output_type": "stream",
          "text": [
            " * Running on http://127.0.0.1:5000/ (Press CTRL+C to quit)\n"
          ],
          "name": "stderr"
        },
        {
          "output_type": "stream",
          "text": [
            " * Running on http://3e986e04abe1.ngrok.io\n",
            " * Traffic stats available on http://127.0.0.1:4040\n"
          ],
          "name": "stdout"
        },
        {
          "output_type": "stream",
          "text": [
            "127.0.0.1 - - [15/Jan/2021 05:27:48] \"\u001b[37mGET /api/req/Hi-i-am-umbrella HTTP/1.1\u001b[0m\" 200 -\n"
          ],
          "name": "stderr"
        },
        {
          "output_type": "stream",
          "text": [
            "Hi i am umbrella\n",
            "Did you mean 'I'?\n",
            "Suggestion: I\n",
            "Hi i am umbrella\n",
            "   ^\n"
          ],
          "name": "stdout"
        },
        {
          "output_type": "stream",
          "text": [
            "127.0.0.1 - - [15/Jan/2021 05:28:00] \"\u001b[37mGET /api/req/Hi-i-am-a-umbrella HTTP/1.1\u001b[0m\" 200 -\n"
          ],
          "name": "stderr"
        },
        {
          "output_type": "stream",
          "text": [
            "Hi i am a umbrella\n",
            "Did you mean 'I'?\n",
            "Suggestion: I\n",
            "Hi i am a umbrella\n",
            "   ^\n",
            "Use 'an' instead of 'a' if the following word starts with a vowel sound, e.g. 'an article', 'an hour'\n",
            "Suggestion: an\n",
            "Hi i am a umbrella\n",
            "        ^\n"
          ],
          "name": "stdout"
        },
        {
          "output_type": "stream",
          "text": [
            "127.0.0.1 - - [15/Jan/2021 05:28:16] \"\u001b[37mGET /api/req/Hi-I-am-an-umbrella HTTP/1.1\u001b[0m\" 200 -\n"
          ],
          "name": "stderr"
        },
        {
          "output_type": "stream",
          "text": [
            "Hi I am an umbrella\n"
          ],
          "name": "stdout"
        },
        {
          "output_type": "stream",
          "text": [
            "127.0.0.1 - - [15/Jan/2021 05:28:46] \"\u001b[37mGET /api/req/Hi-i-am-tst HTTP/1.1\u001b[0m\" 200 -\n"
          ],
          "name": "stderr"
        },
        {
          "output_type": "stream",
          "text": [
            "Hi i am tst\n",
            "Did you mean 'I'?\n",
            "Suggestion: I\n",
            "Hi i am tst\n",
            "   ^\n",
            "Possible spelling mistake found\n",
            "Suggestion: St; test; TNT; CST; DST; MST; SST; st; PST; tat; tot; ts; Tut; tut; tsp; EST; HST; ST; Tet; est; tit; t st; ts t\n",
            "Hi i am tst\n",
            "        ^^^\n"
          ],
          "name": "stdout"
        },
        {
          "output_type": "stream",
          "text": [
            "127.0.0.1 - - [15/Jan/2021 05:28:54] \"\u001b[37mGET /api/req/Hi-i-am-test HTTP/1.1\u001b[0m\" 200 -\n"
          ],
          "name": "stderr"
        },
        {
          "output_type": "stream",
          "text": [
            "Hi i am test\n",
            "Did you mean 'I'?\n",
            "Suggestion: I\n",
            "Hi i am test\n",
            "   ^\n"
          ],
          "name": "stdout"
        },
        {
          "output_type": "stream",
          "text": [
            "127.0.0.1 - - [15/Jan/2021 05:28:58] \"\u001b[37mGET /api/req/Hi-I-am-test HTTP/1.1\u001b[0m\" 200 -\n"
          ],
          "name": "stderr"
        },
        {
          "output_type": "stream",
          "text": [
            "Hi I am test\n"
          ],
          "name": "stdout"
        }
      ]
    },
    {
      "cell_type": "code",
      "metadata": {
        "id": "RW10K6Hqfuyk"
      },
      "source": [
        "# RUN THIS ON COLAB\r\n",
        "\r\n",
        "'''# !sudo apt install openjdk-8-jdk\r\n",
        "# !sudo update-alternatives --set java /usr/lib/jvm/java-8-openjdk-amd64/jre/bin/java\r\n",
        "# !pip install language-check\r\n",
        "# !pip install pycontractions\r\n",
        "!pip install flask_ngrok\r\n",
        "\r\n",
        "import language_check \r\n",
        "from flask import Flask\r\n",
        "from flask_ngrok import run_with_ngrok\r\n",
        "\r\n",
        "app = Flask(__name__)\r\n",
        "run_with_ngrok(app)\r\n",
        "tool = language_check.LanguageTool('en-US') \r\n",
        "\r\n",
        "@app.route('/api/req/<sentence>')\r\n",
        "def apiReq(sentence):\r\n",
        "  sentence = sentence.replace('-', ' ')\r\n",
        "  matches = tool.check(sentence) \r\n",
        "  mistakes = ''\r\n",
        "  print(sentence)\r\n",
        "  for mistake in matches: \r\n",
        "    mistake = str(mistake)\r\n",
        "    mistake = mistake.split('Message: ')[1]\r\n",
        "    print(mistake)\r\n",
        "    if '^' in mistake:\r\n",
        "      mistakes += '\\n'  \r\n",
        "    mistakes += mistake\r\n",
        "  return mistakes\r\n",
        "\r\n",
        "if __name__ == '__main__':\r\n",
        "  app.run()'''\r\n",
        "\r\n",
        "from PyQt5 import QtCore, QtWidgets\r\n",
        "import requests\r\n",
        "\r\n",
        "class Ui_MainWindow(object):\r\n",
        "    def btnCheck_clicked(self):\r\n",
        "        self.text = self.txtSentence.toPlainText().replace(' ', '-')\r\n",
        "        # TODO-Fake: The id should be changed by seeing colab You should copy id from url and paste\r\n",
        "        self.id = '3e986e04abe1'\r\n",
        "        if self.text.replace('\\n', '').replace('-', '') != '':\r\n",
        "            res = requests.get(f'https://{self.id}.ngrok.io/api/req/{self.text}').text\r\n",
        "            print(res)\r\n",
        "            if res != '':\r\n",
        "                self.lblShowgrammatical_rules.setStyleSheet('background-color: red')\r\n",
        "            else:\r\n",
        "                res = self.text\r\n",
        "                self.lblShowgrammatical_rules.setStyleSheet('background-color: green')\r\n",
        "\r\n",
        "            self.lblShowgrammatical_rules.setText(_translate('MainWindow', res))\r\n",
        "            self.lblShowSuggestion.setText(_translate('MainWindow', res))\r\n",
        "\r\n",
        "    def setupUi(self, MainWindow):\r\n",
        "        MainWindow.setObjectName('MainWindow')\r\n",
        "        MainWindow.resize(800, 730)\r\n",
        "        self.centralwidget = QtWidgets.QWidget(MainWindow)\r\n",
        "        self.centralwidget.setObjectName('centralwidget')\r\n",
        "        self.lblHelpText = QtWidgets.QLabel(self.centralwidget)\r\n",
        "        self.lblHelpText.setGeometry(QtCore.QRect(6, 10, 141, 21))\r\n",
        "        self.lblHelpText.setObjectName('lblHelpText')\r\n",
        "        self.lblSentence = QtWidgets.QLabel(self.centralwidget)\r\n",
        "        self.lblSentence.setGeometry(QtCore.QRect(30, 60, 161, 21))\r\n",
        "        self.lblSentence.setObjectName('lblSentence')\r\n",
        "        self.txtSentence = QtWidgets.QTextEdit(self.centralwidget)\r\n",
        "        self.txtSentence.setGeometry(QtCore.QRect(70, 100, 431, 61))\r\n",
        "        self.txtSentence.setObjectName('txtSentence')\r\n",
        "        self.btnCheck = QtWidgets.QPushButton(self.centralwidget)\r\n",
        "        self.btnCheck.setGeometry(QtCore.QRect(240, 180, 81, 31))\r\n",
        "        self.btnCheck.setObjectName('btnCheck')\r\n",
        "        self.lblSuggestion = QtWidgets.QLabel(self.centralwidget)\r\n",
        "        self.lblSuggestion.setGeometry(QtCore.QRect(40, 250, 61, 16))\r\n",
        "        self.lblSuggestion.setObjectName('lblSuggestion')\r\n",
        "        self.lblShowSuggestion = QtWidgets.QLabel(self.centralwidget)\r\n",
        "        self.lblShowSuggestion.setGeometry(QtCore.QRect(10, 270, 781, 141))\r\n",
        "        self.lblShowSuggestion.setObjectName('lblShowSuggestion')\r\n",
        "        self.lblgrammatical_rules = QtWidgets.QLabel(self.centralwidget)\r\n",
        "        self.lblgrammatical_rules.setGeometry(QtCore.QRect(40, 460, 181, 16))\r\n",
        "        self.lblgrammatical_rules.setObjectName('lblgrammatical_rules')\r\n",
        "        self.lblShowgrammatical_rules = QtWidgets.QLabel('Light green', self.centralwidget)\r\n",
        "        self.lblShowgrammatical_rules.setGeometry(QtCore.QRect(10, 480, 781, 161))\r\n",
        "        self.lblShowgrammatical_rules.setObjectName('lblShowgrammatical_rules')\r\n",
        "        MainWindow.setCentralWidget(self.centralwidget)\r\n",
        "        self.menubar = QtWidgets.QMenuBar(MainWindow)\r\n",
        "        self.menubar.setGeometry(QtCore.QRect(0, 0, 800, 21))\r\n",
        "        self.menubar.setObjectName('menubar')\r\n",
        "        MainWindow.setMenuBar(self.menubar)\r\n",
        "        self.statusbar = QtWidgets.QStatusBar(MainWindow)\r\n",
        "        self.statusbar.setObjectName('statusbar')\r\n",
        "        MainWindow.setStatusBar(self.statusbar)\r\n",
        "\r\n",
        "        self.retranslateUi(MainWindow)\r\n",
        "        QtCore.QMetaObject.connectSlotsByName(MainWindow)\r\n",
        "\r\n",
        "    def retranslateUi(self, MainWindow):\r\n",
        "        global _translate\r\n",
        "        _translate = QtCore.QCoreApplication.translate\r\n",
        "        MainWindow.setWindowTitle(_translate('MainWindow', 'MainWindow'))\r\n",
        "        self.lblHelpText.setText(_translate('MainWindow', '?<Put Your Help Text Here>'))\r\n",
        "        self.lblSentence.setText(_translate('MainWindow', 'Please type your sentences here:'))\r\n",
        "        self.btnCheck.setText(_translate('MainWindow', 'Check'))\r\n",
        "        self.btnCheck.clicked.connect(self.btnCheck_clicked)\r\n",
        "        self.lblSuggestion.setText(_translate('MainWindow', 'Suggestion:'))\r\n",
        "        self.lblShowSuggestion.setText(_translate('MainWindow', 'Label'))\r\n",
        "        self.lblgrammatical_rules.setText(_translate('MainWindow', 'The grammatical rules needed to use:'))\r\n",
        "        self.lblShowgrammatical_rules.setText(_translate('MainWindow', 'Label'))\r\n",
        "\r\n",
        "if __name__ == '__main__':\r\n",
        "    import sys\r\n",
        "    app = QtWidgets.QApplication(sys.argv)\r\n",
        "    MainWindow = QtWidgets.QMainWindow()\r\n",
        "    ui = Ui_MainWindow()\r\n",
        "    ui.setupUi(MainWindow)\r\n",
        "    MainWindow.show()\r\n",
        "    sys.exit(app.exec_())\r\n"
      ],
      "execution_count": null,
      "outputs": []
    }
  ]
}