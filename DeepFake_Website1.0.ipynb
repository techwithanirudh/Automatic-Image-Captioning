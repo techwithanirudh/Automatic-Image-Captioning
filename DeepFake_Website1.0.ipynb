{
  "nbformat": 4,
  "nbformat_minor": 0,
  "metadata": {
    "colab": {
      "name": "DeepFake Website",
      "provenance": [],
      "authorship_tag": "ABX9TyPszjY+xAMW1HwRliDrNPnp",
      "include_colab_link": true
    },
    "kernelspec": {
      "name": "python3",
      "display_name": "Python 3"
    }
  },
  "cells": [
    {
      "cell_type": "markdown",
      "metadata": {
        "id": "view-in-github",
        "colab_type": "text"
      },
      "source": [
        "<a href=\"https://colab.research.google.com/github/techwithanirudh/Automatic-Image-Captioning/blob/master/DeepFake_Website1.0.ipynb\" target=\"_parent\"><img src=\"https://colab.research.google.com/assets/colab-badge.svg\" alt=\"Open In Colab\"/></a>"
      ]
    },
    {
      "cell_type": "code",
      "metadata": {
        "id": "13ZbY83pEg_l"
      },
      "source": [
        "!pip install flask_ngrok flask_cors"
      ],
      "execution_count": null,
      "outputs": []
    },
    {
      "cell_type": "code",
      "metadata": {
        "colab": {
          "base_uri": "https://localhost:8080/"
        },
        "id": "tfrUMpWNE1Fc",
        "outputId": "c9fa03d8-cc04-4c2b-c534-793f3f0ca620"
      },
      "source": [
        "!git clone https://github.com/AliaksandrSiarohin/first-order-model\r\n",
        "!cd first-order-model"
      ],
      "execution_count": 2,
      "outputs": [
        {
          "output_type": "stream",
          "text": [
            "Cloning into 'first-order-model'...\n",
            "remote: Enumerating objects: 256, done.\u001b[K\n",
            "remote: Total 256 (delta 0), reused 0 (delta 0), pack-reused 256\u001b[K\n",
            "Receiving objects: 100% (256/256), 72.13 MiB | 32.39 MiB/s, done.\n",
            "Resolving deltas: 100% (128/128), done.\n"
          ],
          "name": "stdout"
        }
      ]
    },
    {
      "cell_type": "code",
      "metadata": {
        "id": "ow4fC3MPE4sG"
      },
      "source": [
        "from google.colab import drive\r\n",
        "drive.mount('/content/gdrive')"
      ],
      "execution_count": null,
      "outputs": []
    },
    {
      "cell_type": "code",
      "metadata": {
        "id": "crw0z5zsE8iV"
      },
      "source": [
        "import os\r\n",
        "\r\n",
        "# os.chdir('/content/gdrive/MyDrive')\r\n",
        "# !unzip first-order-motion-model.zip\r\n",
        "os.chdir('/content/first-order-model')"
      ],
      "execution_count": 3,
      "outputs": []
    },
    {
      "cell_type": "code",
      "metadata": {
        "id": "UCfaoHksQ70d"
      },
      "source": [
        "os.mkdir('/content/templates')\r\n",
        "os.chdir('/content/templates')"
      ],
      "execution_count": 4,
      "outputs": []
    },
    {
      "cell_type": "code",
      "metadata": {
        "id": "ohdQIze7iNj3"
      },
      "source": [
        "with open('index.html', 'w') as f:\r\n",
        "  f.write('''\r\n",
        "<!DOCTYPE html>\r\n",
        "<html lang=\"en\">\r\n",
        "<head>\r\n",
        "    <meta charset=\"UTF-8\">\r\n",
        "    <meta name=\"viewport\" content=\"width=device-width, initial-scale=1.0\">\r\n",
        "    <script src=\"https://ajax.googleapis.com/ajax/libs/jquery/3.5.1/jquery.min.js\"></script>\r\n",
        "    <title>Document</title>\r\n",
        "    <style>\r\n",
        "        body{\r\n",
        "          background: rgba(0,0,0,0.9);\r\n",
        "        }\r\n",
        "        form{\r\n",
        "          position: absolute;\r\n",
        "          top: 50%;\r\n",
        "          left: 50%;\r\n",
        "          margin-top: -100px;\r\n",
        "          margin-left: -250px;\r\n",
        "          width: 500px;\r\n",
        "          height: 200px;\r\n",
        "          border: 4px dashed #fff;\r\n",
        "        }\r\n",
        "        form p{\r\n",
        "          width: 100%;\r\n",
        "          height: 100%;\r\n",
        "          text-align: center;\r\n",
        "          line-height: 170px;\r\n",
        "          color: #ffffff;\r\n",
        "          font-family: Arial;\r\n",
        "        }\r\n",
        "        form input{\r\n",
        "          position: absolute;\r\n",
        "          margin: 0;\r\n",
        "          padding: 0;\r\n",
        "          width: 100%;\r\n",
        "          height: 100%;\r\n",
        "          outline: none;\r\n",
        "          opacity: 0;\r\n",
        "        }\r\n",
        "        form button{\r\n",
        "          margin: 0;\r\n",
        "          color: #fff;\r\n",
        "          background: #16a085;\r\n",
        "          border: none;\r\n",
        "          width: 508px;\r\n",
        "          height: 35px;\r\n",
        "          margin-top: -20px;\r\n",
        "          margin-left: -4px;\r\n",
        "          border-radius: 4px;\r\n",
        "          border-bottom: 4px solid #117A60;\r\n",
        "          transition: all .2s ease;\r\n",
        "          outline: none;\r\n",
        "        }\r\n",
        "        form button:hover{\r\n",
        "          background: #149174;\r\n",
        "        \tcolor: #0C5645;\r\n",
        "        }\r\n",
        "        form button:active{\r\n",
        "          border:0;\r\n",
        "        }\r\n",
        "    </style>\r\n",
        "</head>\r\n",
        "<body>\r\n",
        "    <form action=\"/upload\" method=\"POST\" enctype=\"multipart/form-data\">\r\n",
        "        <input type=\"file\" name=\"file\" multiple>\r\n",
        "        <p>Drag your files here or click in this area.</p>\r\n",
        "        <button type=\"submit\">Upload</button>\r\n",
        "    </form>\r\n",
        "\r\n",
        "    <script>\r\n",
        "        $(document).ready(function(){\r\n",
        "          $('form input').change(function () {\r\n",
        "            $('form p').text(this.files.length + \" file(s) selected\");\r\n",
        "          });\r\n",
        "        });\r\n",
        "    </script>\r\n",
        "</body>\r\n",
        "</html>\r\n",
        "  ''')\r\n",
        "f.close()"
      ],
      "execution_count": 5,
      "outputs": []
    },
    {
      "cell_type": "code",
      "metadata": {
        "id": "jPYnb-BtiVcu"
      },
      "source": [
        "with open('progress.html', 'w') as f:\r\n",
        "  f.write('''\r\n",
        "<!DOCTYPE html>\r\n",
        "<html lang=\"en\">\r\n",
        "<head>\r\n",
        "    <meta charset=\"UTF-8\">\r\n",
        "    <meta name=\"viewport\" content=\"width=device-width, initial-scale=1.0\">\r\n",
        "    <link rel=\"stylesheet\" href=\"https://www.w3schools.com/w3css/4/w3.css\">\r\n",
        "    <title>Document</title>\r\n",
        "    <style>\r\n",
        "        body{\r\n",
        "          background: rgba(0,0,0,0.9);\r\n",
        "        }\r\n",
        "    </style>\r\n",
        "</head>\r\n",
        "<body>\r\n",
        "    <form action=\"/progress/{{ prg }}\" method=\"POST\">\r\n",
        "        <div class=\"w3-container\">\r\n",
        "            <h2 style=\"color: white;\">Creating DeepFake</h2>\r\n",
        "            <p style=\"color: white;\">Progress:</p>\r\n",
        "\r\n",
        "            <div class=\"w3-light-grey\">\r\n",
        "              <div id=\"prgsBr\" name=\"prgsBr\" class=\"w3-container w3-green w3-center\" style=\"width:{{ prg }}%\">{{ prg }}%</div>\r\n",
        "            </div>\r\n",
        "            <input id=\"updatePrg\" type=\"submit\" style=\"display: none;\">\r\n",
        "        </div>\r\n",
        "    </form>\r\n",
        "\r\n",
        "    <script>\r\n",
        "      document.getElementById('updatePrg').click()\r\n",
        "    </script>\r\n",
        "</body>\r\n",
        "</html>\r\n",
        "  ''')\r\n",
        "f.close()"
      ],
      "execution_count": 6,
      "outputs": []
    },
    {
      "cell_type": "code",
      "metadata": {
        "id": "gS_gX4UoFU6e"
      },
      "source": [
        "from flask import *\r\n",
        "from flask_ngrok import run_with_ngrok\r\n",
        "from flask_cors import CORS\r\n",
        "from werkzeug.utils import secure_filename\r\n",
        "import time\r\n",
        "\r\n",
        "app = Flask(__name__, root_path='/content/')\r\n",
        "CORS(app)\r\n",
        "run_with_ngrok(app)\r\n",
        "\r\n",
        "@app.route('/')\r\n",
        "def ip_get():\r\n",
        "  if request.environ.get('HTTP_X_FORWARDED_FOR') is None:\r\n",
        "    jsonIp = {'ip': request.environ['REMOTE_ADDR']}\r\n",
        "  else:\r\n",
        "    jsonIp = {'ip': request.environ['HTTP_X_FORWARDED_FOR']}\r\n",
        "\r\n",
        "  print(jsonIp)\r\n",
        "  return redirect('/main')\r\n",
        "\r\n",
        "@app.route('/main')\r\n",
        "def main():\r\n",
        "  return render_template('index.html')\r\n",
        "\r\n",
        "@app.route('/upload', methods=['POST'])\r\n",
        "def upload():\r\n",
        "  f = request.files['file']\r\n",
        "  f.save(secure_filename(f.filename))\r\n",
        "  return redirect('/progress/0')\r\n",
        "\r\n",
        "@app.route('/progress/<prg>', methods=['GET', 'POST'])\r\n",
        "def progress(prg):\r\n",
        "  prg = int(prg)\r\n",
        "  prg += 1\r\n",
        "  time.sleep(2)\r\n",
        "  return render_template('progress.html', prg=prg)\r\n",
        "\r\n",
        "app.run()"
      ],
      "execution_count": null,
      "outputs": []
    }
  ]
}