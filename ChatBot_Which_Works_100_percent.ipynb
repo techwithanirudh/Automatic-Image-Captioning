{
  "nbformat": 4,
  "nbformat_minor": 0,
  "metadata": {
    "colab": {
      "name": "ChatBot Which Works 100 percent",
      "provenance": [],
      "authorship_tag": "ABX9TyPjUhAt+UL2fQOiKGHXulF7",
      "include_colab_link": true
    },
    "kernelspec": {
      "name": "python3",
      "display_name": "Python 3"
    }
  },
  "cells": [
    {
      "cell_type": "markdown",
      "metadata": {
        "id": "view-in-github",
        "colab_type": "text"
      },
      "source": [
        "<a href=\"https://colab.research.google.com/github/techwithanirudh/Automatic-Image-Captioning/blob/master/ChatBot_Which_Works_100_percent.ipynb\" target=\"_parent\"><img src=\"https://colab.research.google.com/assets/colab-badge.svg\" alt=\"Open In Colab\"/></a>"
      ]
    },
    {
      "cell_type": "code",
      "metadata": {
        "id": "daKlu53iAyJS"
      },
      "source": [
        "!pip install chatterbot\r\n",
        "!pip install chatterbot-corpus\r\n",
        "\r\n",
        "import os\r\n",
        "\r\n",
        "!cp /usr/local/lib/python3.6/dist-packages/chatterbot_corpus/ -r /root/chatterbot_corpus/"
      ],
      "execution_count": null,
      "outputs": []
    },
    {
      "cell_type": "code",
      "metadata": {
        "id": "Ntm9oX8U5pt0"
      },
      "source": [
        "from chatterbot import ChatBot\r\n",
        "from chatterbot.trainers import ChatterBotCorpusTrainer\r\n",
        "\r\n",
        "app = Flask(__name__)\r\n",
        "englishBot = ChatBot(\"Chatterbot\", storage_adapter=\"chatterbot.storage.SQLStorageAdapter\")\r\n",
        "trainer = ChatterBotCorpusTrainer(englishBot)\r\n",
        "trainer.train(\"chatterbot.corpus.english\") #train the chatter bot for english\r\n",
        "\r\n",
        "def get_bot_response(userText):\r\n",
        "  return str(englishBot.get_response(userText))\r\n",
        "\r\n",
        "while True:\r\n",
        "  print('Bot: ' + get_bot_response(input('User: ')))"
      ],
      "execution_count": null,
      "outputs": []
    }
  ]
}