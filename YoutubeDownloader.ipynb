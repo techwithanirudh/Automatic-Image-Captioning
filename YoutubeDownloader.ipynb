{
  "nbformat": 4,
  "nbformat_minor": 0,
  "metadata": {
    "colab": {
      "name": "YoutubeDownloader",
      "provenance": [],
      "authorship_tag": "ABX9TyNkouYrNJnpwWCvuEnH8DEm",
      "include_colab_link": true
    },
    "kernelspec": {
      "name": "python3",
      "display_name": "Python 3"
    }
  },
  "cells": [
    {
      "cell_type": "markdown",
      "metadata": {
        "id": "view-in-github",
        "colab_type": "text"
      },
      "source": [
        "<a href=\"https://colab.research.google.com/github/techwithanirudh/Automatic-Image-Captioning/blob/master/YoutubeDownloader.ipynb\" target=\"_parent\"><img src=\"https://colab.research.google.com/assets/colab-badge.svg\" alt=\"Open In Colab\"/></a>"
      ]
    },
    {
      "cell_type": "code",
      "metadata": {
        "colab": {
          "base_uri": "https://localhost:8080/"
        },
        "id": "1h9TbDXnnTM7",
        "outputId": "7d911434-21a0-4eb0-ce28-ae8de7661bc1"
      },
      "source": [
        "!sudo pip install youtube_dl"
      ],
      "execution_count": 1,
      "outputs": [
        {
          "output_type": "stream",
          "text": [
            "Collecting youtube_dl\n",
            "\u001b[?25l  Downloading https://files.pythonhosted.org/packages/2d/e6/cca03e83b32f8c59d65a3c8dc396689a7be55230933890c64dba0099c942/youtube_dl-2021.2.10-py2.py3-none-any.whl (1.9MB)\n",
            "\u001b[K     |████████████████████████████████| 1.9MB 8.6MB/s \n",
            "\u001b[?25hInstalling collected packages: youtube-dl\n",
            "Successfully installed youtube-dl-2021.2.10\n"
          ],
          "name": "stdout"
        }
      ]
    },
    {
      "cell_type": "code",
      "metadata": {
        "id": "krZbPs-1oA0B"
      },
      "source": [
        "from google.colab import drive\r\n",
        "\r\n",
        "drive.mount('/content/drive')"
      ],
      "execution_count": null,
      "outputs": []
    },
    {
      "cell_type": "code",
      "metadata": {
        "colab": {
          "base_uri": "https://localhost:8080/"
        },
        "id": "6-LZW9FlnW7x",
        "outputId": "a6327d22-5c3c-499e-f008-11abeec7ffc1"
      },
      "source": [
        "import youtube_dl\r\n",
        "\r\n",
        "fileName = 'download'\r\n",
        "link = input('Link: ')\r\n",
        "ydl_opts = {'outtmpl': fileName}\r\n",
        "\r\n",
        "if fileName and link != '':\r\n",
        "  with youtube_dl.YoutubeDL(ydl_opts) as ydl: \r\n",
        "    ydl.download([link]) "
      ],
      "execution_count": 6,
      "outputs": [
        {
          "output_type": "stream",
          "text": [
            "Link: https://www.youtube.com/watch?v=w3t8Rhckg9g&feature=youtu.be\n",
            "[youtube] w3t8Rhckg9g: Downloading webpage\n"
          ],
          "name": "stdout"
        },
        {
          "output_type": "stream",
          "text": [
            "WARNING: Requested formats are incompatible for merge and will be merged into mkv.\n"
          ],
          "name": "stderr"
        },
        {
          "output_type": "stream",
          "text": [
            "[download] Destination: download.f398\n",
            "[download] 100% of 19.19MiB in 00:01\n",
            "[download] Destination: download.f251\n",
            "[download] 100% of 3.28MiB in 00:00\n",
            "[ffmpeg] Merging formats into \"download.mkv\"\n",
            "Deleting original file download.f398 (pass -k to keep)\n",
            "Deleting original file download.f251 (pass -k to keep)\n"
          ],
          "name": "stdout"
        }
      ]
    },
    {
      "cell_type": "code",
      "metadata": {
        "id": "7iP2DcGdojki"
      },
      "source": [
        "!cp /content/download.mkv /content/drive/MyDrive/Where-Are-You.mkv"
      ],
      "execution_count": 7,
      "outputs": []
    }
  ]
}