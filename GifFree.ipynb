{
  "nbformat": 4,
  "nbformat_minor": 0,
  "metadata": {
    "colab": {
      "name": "GifFree",
      "provenance": [],
      "collapsed_sections": [],
      "authorship_tag": "ABX9TyNr58dg2ZDoCb1m5mTYV7nB",
      "include_colab_link": true
    },
    "kernelspec": {
      "name": "python3",
      "display_name": "Python 3"
    }
  },
  "cells": [
    {
      "cell_type": "markdown",
      "metadata": {
        "id": "view-in-github",
        "colab_type": "text"
      },
      "source": [
        "<a href=\"https://colab.research.google.com/github/techwithanirudh/Automatic-Image-Captioning/blob/master/GifFree.ipynb\" target=\"_parent\"><img src=\"https://colab.research.google.com/assets/colab-badge.svg\" alt=\"Open In Colab\"/></a>"
      ]
    },
    {
      "cell_type": "code",
      "metadata": {
        "colab": {
          "base_uri": "https://localhost:8080/"
        },
        "id": "ksC7YIr4l7GL",
        "outputId": "4f84fd2e-1d29-4eb5-86a2-2aab2b6c188b"
      },
      "source": [
        "!pip install giphy_client\r\n",
        "import giphy_client as gc\r\n",
        "from giphy_client.rest import ApiException\r\n",
        "from random import randint\r\n",
        "import requests\r\n",
        "import time\r\n",
        "import os\r\n",
        "\r\n",
        "api_instance = gc.DefaultApi()\r\n",
        "api_key = 'dc6zaTOxFJmzC'\r\n",
        "query = input('Type Of Gif: ')\r\n",
        "fmt = 'gif'\r\n",
        "\r\n",
        "try:\r\n",
        "    response = api_instance.gifs_search_get(api_key,query,limit=1,offset=randint(1,10),fmt=fmt)\r\n",
        "    gif_id = response.data[0]\r\n",
        "    url_gif = gif_id.images.downsized.url\r\n",
        "except ApiException:\r\n",
        "    print(\"Exception when calling DefaultApi->gifs_search_get: %s\\n\" % e)\r\n",
        "\r\n",
        "with open('test.gif','wb') as f:\r\n",
        "    f.write(requests.get(url_gif).content)"
      ],
      "execution_count": null,
      "outputs": [
        {
          "output_type": "stream",
          "text": [
            "Requirement already satisfied: giphy_client in /usr/local/lib/python3.6/dist-packages (1.0.0)\n",
            "Requirement already satisfied: certifi in /usr/local/lib/python3.6/dist-packages (from giphy_client) (2020.12.5)\n",
            "Requirement already satisfied: six>=1.10 in /usr/local/lib/python3.6/dist-packages (from giphy_client) (1.15.0)\n",
            "Requirement already satisfied: urllib3>=1.15 in /usr/local/lib/python3.6/dist-packages (from giphy_client) (1.24.3)\n",
            "Requirement already satisfied: python-dateutil in /usr/local/lib/python3.6/dist-packages (from giphy_client) (2.8.1)\n"
          ],
          "name": "stdout"
        }
      ]
    }
  ]
}