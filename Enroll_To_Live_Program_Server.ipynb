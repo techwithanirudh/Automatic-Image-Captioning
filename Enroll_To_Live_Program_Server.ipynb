{
  "nbformat": 4,
  "nbformat_minor": 0,
  "metadata": {
    "colab": {
      "name": "Enroll To Live Program Server",
      "provenance": [],
      "collapsed_sections": [],
      "authorship_tag": "ABX9TyPkt2LT4AnUuOC+w1VusmBC",
      "include_colab_link": true
    },
    "kernelspec": {
      "name": "python3",
      "display_name": "Python 3"
    }
  },
  "cells": [
    {
      "cell_type": "markdown",
      "metadata": {
        "id": "view-in-github",
        "colab_type": "text"
      },
      "source": [
        "<a href=\"https://colab.research.google.com/github/techwithanirudh/Automatic-Image-Captioning/blob/master/Enroll_To_Live_Program_Server.ipynb\" target=\"_parent\"><img src=\"https://colab.research.google.com/assets/colab-badge.svg\" alt=\"Open In Colab\"/></a>"
      ]
    },
    {
      "cell_type": "code",
      "metadata": {
        "id": "kyRsp2hBuALG",
        "colab": {
          "base_uri": "https://localhost:8080/"
        },
        "outputId": "81b79bc5-9306-4add-8534-5a28443a8046"
      },
      "source": [
        "# !pip install flask-ngrok\r\n",
        "# !pip install flask-cors\r\n",
        "\r\n",
        "from flask import Flask\r\n",
        "from flask import request\r\n",
        "from flask_ngrok import run_with_ngrok\r\n",
        "from flask_cors import CORS\r\n",
        "\r\n",
        "print(__name__)\r\n",
        "app = Flask(__name__)\r\n",
        "CORS(app)\r\n",
        "run_with_ngrok(app)\r\n",
        "\r\n",
        "@app.route(\"/Enroll-To-Live-Program/form/post/<data>\", methods=['POST'])\r\n",
        "def root(data):\r\n",
        "  with open('UsersAndPassword.txt', 'a') as f:\r\n",
        "    f.write('\\n'+ data.replace('-', '--{}--pwd: '))\r\n",
        "  f.close()\r\n",
        "\r\n",
        "  return 'Done'\r\n",
        "\r\n",
        "def usrSplit(usrn, index):\r\n",
        "  num = len(usrn.split('--{}--pwd: '))\r\n",
        "  usrn = usrn.split('\\n')\r\n",
        "  out = ''\r\n",
        "  for i in range(num):\r\n",
        "      # print(index)\r\n",
        "      try:\r\n",
        "        outT = usrn[i].split('--{}--pwd: ')[index]\r\n",
        "      except:\r\n",
        "        continue\r\n",
        "      conds = [i > 0, i != num - 1]\r\n",
        "      if all(conds):\r\n",
        "        out += outT + ', '\r\n",
        "      else:\r\n",
        "        out += outT \r\n",
        "      # print(out)\r\n",
        "  return out\r\n",
        "\r\n",
        "@app.route(\"/usrList\")\r\n",
        "def getUserList():\r\n",
        "  with open('UsersAndPassword.txt', 'r') as f:\r\n",
        "    usrn = f.read()\r\n",
        "    # print(usrn)\r\n",
        "  return usrSplit(usrn, 0)\r\n",
        "\r\n",
        "@app.route(\"/checkPwd/<nameUsr>/<hashedPwd>\")\r\n",
        "def checkPwd(nameUsr, hashedPwd):\r\n",
        "  with open('UsersAndPassword.txt', 'r') as f:\r\n",
        "    usrn, pwd = f.read(), f.read()\r\n",
        "    pwdL = []\r\n",
        "    # print(usrSplit(usrn, 1))\r\n",
        "    for pwdF in usrSplit(usrn, 1).split(', '):\r\n",
        "      print(pwdF)\r\n",
        "      pwdL.append(pwdF)\r\n",
        "    \r\n",
        "    num = 0\r\n",
        "    for usrnF in usrSplit(usrn, 0).split(', '):\r\n",
        "      # print(usrnF, nameUsr)\r\n",
        "      if usrnF == nameUsr:\r\n",
        "        break\r\n",
        "      num += 1\r\n",
        "    print(num)\r\n",
        "    if pwdL[num] == hashedPwd:\r\n",
        "      return 'True'\r\n",
        "    return 'False'\r\n",
        "\r\n",
        "app.run()"
      ],
      "execution_count": null,
      "outputs": [
        {
          "output_type": "stream",
          "text": [
            "__main__\n",
            " * Serving Flask app \"__main__\" (lazy loading)\n",
            " * Environment: production\n",
            "\u001b[31m   WARNING: This is a development server. Do not use it in a production deployment.\u001b[0m\n",
            "\u001b[2m   Use a production WSGI server instead.\u001b[0m\n",
            " * Debug mode: off\n"
          ],
          "name": "stdout"
        },
        {
          "output_type": "stream",
          "text": [
            " * Running on http://127.0.0.1:5000/ (Press CTRL+C to quit)\n"
          ],
          "name": "stderr"
        },
        {
          "output_type": "stream",
          "text": [
            " * Running on http://45b54bd929f0.ngrok.io\n",
            " * Traffic stats available on http://127.0.0.1:4040\n"
          ],
          "name": "stdout"
        },
        {
          "output_type": "stream",
          "text": [
            "127.0.0.1 - - [22/Jan/2021 13:27:40] \"\u001b[37mGET /checkPwd/sha256/03ac674216f3e15c761ee1a5e255f067953623c8b388b4459e13f978d7c846f4 HTTP/1.1\u001b[0m\" 200 -\n"
          ],
          "name": "stderr"
        },
        {
          "output_type": "stream",
          "text": [
            "bca\n",
            "bca\n",
            "bca\n",
            "bca\n",
            "bca\n",
            "bcaio98\n",
            "bca\n",
            "03ac674216f3e15c761ee1a5e255f067953623c8b388b4459e13f978d7c846f4\n",
            "7\n"
          ],
          "name": "stdout"
        },
        {
          "output_type": "stream",
          "text": [
            "127.0.0.1 - - [22/Jan/2021 13:27:50] \"\u001b[37mGET /checkPwd/sha256/03ac67421djduh6f3e15c761ee1a5e255f067953623c8b388b4459e13f978d7c846f4 HTTP/1.1\u001b[0m\" 200 -\n"
          ],
          "name": "stderr"
        },
        {
          "output_type": "stream",
          "text": [
            "bca\n",
            "bca\n",
            "bca\n",
            "bca\n",
            "bca\n",
            "bcaio98\n",
            "bca\n",
            "03ac674216f3e15c761ee1a5e255f067953623c8b388b4459e13f978d7c846f4\n",
            "7\n"
          ],
          "name": "stdout"
        }
      ]
    },
    {
      "cell_type": "code",
      "metadata": {
        "colab": {
          "base_uri": "https://localhost:8080/"
        },
        "id": "g2M-f60NvyJZ",
        "outputId": "f0d350fa-b6f3-4adb-a310-91c26ae30abe"
      },
      "source": [
        "import hashlib\r\n",
        "\r\n",
        "encrypted = hashlib.sha256(b'1234').hexdigest()\r\n",
        "print(encrypted)"
      ],
      "execution_count": 24,
      "outputs": [
        {
          "output_type": "stream",
          "text": [
            "03ac674216f3e15c761ee1a5e255f067953623c8b388b4459e13f978d7c846f4\n"
          ],
          "name": "stdout"
        }
      ]
    }
  ]
}